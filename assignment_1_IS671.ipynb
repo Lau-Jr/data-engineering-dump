{
  "nbformat": 4,
  "nbformat_minor": 0,
  "metadata": {
    "kernelspec": {
      "display_name": "Python 3",
      "language": "python",
      "name": "python3"
    },
    "language_info": {
      "codemirror_mode": {
        "name": "ipython",
        "version": 3
      },
      "file_extension": ".py",
      "mimetype": "text/x-python",
      "name": "python",
      "nbconvert_exporter": "python",
      "pygments_lexer": "ipython3",
      "version": "3.9.0"
    },
    "colab": {
      "name": "SURNAME_Firstname_Assignment01.ipynb",
      "provenance": [],
      "include_colab_link": true
    }
  },
  "cells": [
    {
      "cell_type": "markdown",
      "metadata": {
        "id": "view-in-github",
        "colab_type": "text"
      },
      "source": [
        "<a href=\"https://colab.research.google.com/github/Lau-Jr/linear-regression/blob/main/assignment_1_IS671.ipynb\" target=\"_parent\"><img src=\"https://colab.research.google.com/assets/colab-badge.svg\" alt=\"Open In Colab\"/></a>"
      ]
    },
    {
      "cell_type": "markdown",
      "metadata": {
        "id": "NBIBL9sSKaFS"
      },
      "source": [
        "## Assignment 01 Variables and Data Types\n",
        "#### Student Name: ....................... Reg. No. ........................."
      ]
    },
    {
      "cell_type": "markdown",
      "metadata": {
        "id": "GjlFUwgTKaFa"
      },
      "source": [
        "### Question 01"
      ]
    },
    {
      "cell_type": "markdown",
      "metadata": {
        "id": "fi44h1fpKaFb"
      },
      "source": [
        "#### Qtn1(a)"
      ]
    },
    {
      "cell_type": "code",
      "metadata": {
        "id": "zavrTkMMKaFc",
        "outputId": "94b0bcbe-a950-466d-eb0f-0fcdeafad3ce",
        "colab": {
          "base_uri": "https://localhost:8080/",
          "height": 35
        }
      },
      "source": [
        "#solution for Qtn1(a)\n",
        "sentence = \"He said, \\\"John\\'s program is easy to read\\\"\"\n",
        "sentence"
      ],
      "execution_count": 5,
      "outputs": [
        {
          "output_type": "execute_result",
          "data": {
            "application/vnd.google.colaboratory.intrinsic+json": {
              "type": "string"
            },
            "text/plain": [
              "'He said, \"John\\'s program is easy to read\"'"
            ]
          },
          "metadata": {},
          "execution_count": 5
        }
      ]
    },
    {
      "cell_type": "markdown",
      "metadata": {
        "id": "6hsFRxh7KaFe"
      },
      "source": [
        "#### Qtn1(b)"
      ]
    },
    {
      "cell_type": "code",
      "metadata": {
        "id": "qzkjW6YLKaFf",
        "outputId": "9359faf9-903f-4f9a-9a9b-24e1c708ed0d",
        "colab": {
          "base_uri": "https://localhost:8080/"
        }
      },
      "source": [
        "#solution for Qtn1(b)\n",
        "import math\n",
        "length_r = int(input(\"Enter the length from the center to a vertex (r): \"))\n",
        "length_s = 2 * length_r * math.sin(math.pi / 5)\n",
        "area = 3/2 * math.sqrt(3) * length_s ** 2\n",
        "area"
      ],
      "execution_count": 13,
      "outputs": [
        {
          "name": "stdout",
          "output_type": "stream",
          "text": [
            "Enter the length from the center to a vertex (r): 12\n"
          ]
        },
        {
          "output_type": "execute_result",
          "data": {
            "text/plain": [
              "517.0252346967927"
            ]
          },
          "metadata": {},
          "execution_count": 13
        }
      ]
    },
    {
      "cell_type": "markdown",
      "metadata": {
        "id": "4sjoa0XeKaFg"
      },
      "source": [
        "#### Qtn1(c)"
      ]
    },
    {
      "cell_type": "code",
      "metadata": {
        "id": "nggtMM59KaFi",
        "outputId": "92fa998b-b3be-4be8-b8de-fe818590afc7",
        "colab": {
          "base_uri": "https://localhost:8080/"
        }
      },
      "source": [
        "#solution for Qtn1(c)\n",
        "length_r = int(input(\"Enter the length from the center to a vertex (r): \"))\n",
        "type(length_r)"
      ],
      "execution_count": 6,
      "outputs": [
        {
          "name": "stdout",
          "output_type": "stream",
          "text": [
            "Enter the length from the center to a vertex (r):23\n"
          ]
        },
        {
          "output_type": "execute_result",
          "data": {
            "text/plain": [
              "int"
            ]
          },
          "metadata": {},
          "execution_count": 6
        }
      ]
    },
    {
      "cell_type": "markdown",
      "metadata": {
        "id": "vFzt6XydKaFj"
      },
      "source": [
        "### Question 02"
      ]
    },
    {
      "cell_type": "code",
      "metadata": {
        "id": "h1GRHvYwKaFl"
      },
      "source": [
        "#Qtn2(a)\n",
        "print('Solution for Qtn2(a)')\n",
        "#........\n",
        "\n",
        "#Qtn2(b)\n",
        "print('Solution for Qtn2(b)')\n",
        "\n",
        "#Qtn2(c)\n",
        "print('Solution for Qtn2(c)')\n",
        "#..................\n",
        "\n",
        "#Qtn2(d)\n",
        "print('Solution for Qtn2(d)')\n",
        "#.................."
      ],
      "execution_count": null,
      "outputs": []
    },
    {
      "cell_type": "markdown",
      "metadata": {
        "id": "Zi0rT-YtKaFm"
      },
      "source": [
        "### Question 03"
      ]
    },
    {
      "cell_type": "markdown",
      "metadata": {
        "id": "SKtn76RPKaFn"
      },
      "source": [
        "#### Qtn3(a)"
      ]
    },
    {
      "cell_type": "code",
      "metadata": {
        "id": "3jz8tveQKaFo"
      },
      "source": [
        ""
      ],
      "execution_count": null,
      "outputs": []
    },
    {
      "cell_type": "markdown",
      "metadata": {
        "id": "yAU5ISTSKaFp"
      },
      "source": [
        "#### Qtn3(b)"
      ]
    },
    {
      "cell_type": "code",
      "metadata": {
        "id": "Ace2wDzGKaFq",
        "outputId": "ba410f65-4cf5-414c-f604-f23be43749d4",
        "colab": {
          "base_uri": "https://localhost:8080/"
        }
      },
      "source": [
        "import math\n",
        "math.sqrt(9)"
      ],
      "execution_count": 12,
      "outputs": [
        {
          "output_type": "execute_result",
          "data": {
            "text/plain": [
              "3.0"
            ]
          },
          "metadata": {},
          "execution_count": 12
        }
      ]
    }
  ]
}