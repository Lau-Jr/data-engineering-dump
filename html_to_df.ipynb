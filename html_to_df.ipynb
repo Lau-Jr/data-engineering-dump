{
  "nbformat": 4,
  "nbformat_minor": 0,
  "metadata": {
    "colab": {
      "name": "html_to_df.ipynb",
      "provenance": [],
      "authorship_tag": "ABX9TyN1BwwrtksKeXRNSU9gDB7S",
      "include_colab_link": true
    },
    "kernelspec": {
      "name": "python3",
      "display_name": "Python 3"
    },
    "language_info": {
      "name": "python"
    }
  },
  "cells": [
    {
      "cell_type": "markdown",
      "metadata": {
        "id": "view-in-github",
        "colab_type": "text"
      },
      "source": [
        "<a href=\"https://colab.research.google.com/github/Lau-Jr/linear-regression/blob/main/html_to_df.ipynb\" target=\"_parent\"><img src=\"https://colab.research.google.com/assets/colab-badge.svg\" alt=\"Open In Colab\"/></a>"
      ]
    },
    {
      "cell_type": "code",
      "metadata": {
        "id": "gTMf38FsGJUo"
      },
      "source": [
        "import pandas as pd"
      ],
      "execution_count": null,
      "outputs": []
    },
    {
      "cell_type": "code",
      "metadata": {
        "id": "nrpRFLL1EAGG"
      },
      "source": [
        "html=\"\"\"<table id=\"frontarea-cybertalents-challenges-challenges-all-my-submissions\" class=\"table table-striped table-hover responsive dataTableBuilder dataTable no-footer\" role=\"grid\" aria-describedby=\"frontarea-cybertalents-challenges-challenges-all-my-submissions_info\"><thead><tr role=\"row\" style=\"height: 0px;\"><th class=\"sorting_disabled\" rowspan=\"1\" colspan=\"1\" aria-label=\"Challenge\" style=\"padding-top: 0px; padding-bottom: 0px; border-top-width: 0px; border-bottom-width: 0px; height: 0px; width: 172px;\"><div class=\"dataTables_sizing\" style=\"height: 0px; overflow: hidden;\">Challenge</div></th><th class=\"sorting_asc\" aria-controls=\"frontarea-cybertalents-challenges-challenges-all-my-submissions\" rowspan=\"1\" colspan=\"1\" aria-sort=\"ascending\" aria-label=\"Answer: activate to sort column descending\" style=\"padding-top: 0px; padding-bottom: 0px; border-top-width: 0px; border-bottom-width: 0px; height: 0px; width: 584px;\"><div class=\"dataTables_sizing\" style=\"height: 0px; overflow: hidden;\">Answer</div></th><th class=\"sorting\" aria-controls=\"frontarea-cybertalents-challenges-challenges-all-my-submissions\" rowspan=\"1\" colspan=\"1\" aria-label=\"Result: activate to sort column ascending\" style=\"padding-top: 0px; padding-bottom: 0px; border-top-width: 0px; border-bottom-width: 0px; height: 0px; width: 48px;\"><div class=\"dataTables_sizing\" style=\"height: 0px; overflow: hidden;\">Result</div></th><th class=\"sorting\" aria-controls=\"frontarea-cybertalents-challenges-challenges-all-my-submissions\" rowspan=\"1\" colspan=\"1\" aria-label=\"Points: activate to sort column ascending\" style=\"padding-top: 0px; padding-bottom: 0px; border-top-width: 0px; border-bottom-width: 0px; height: 0px; width: 43px;\"><div class=\"dataTables_sizing\" style=\"height: 0px; overflow: hidden;\">Points</div></th><th class=\"sorting\" aria-controls=\"frontarea-cybertalents-challenges-challenges-all-my-submissions\" rowspan=\"1\" colspan=\"1\" aria-label=\"Submitted At: activate to sort column ascending\" style=\"padding-top: 0px; padding-bottom: 0px; border-top-width: 0px; border-bottom-width: 0px; height: 0px; width: 163px;\"><div class=\"dataTables_sizing\" style=\"height: 0px; overflow: hidden;\">Submitted At</div></th></tr></thead><tbody><tr class=\"odd\"><td><a href=\"https://cybertalents.com/challenges/cryptography/crack-the-hash\">Crack the Hash</a> <i class=\"text-success fa fa-check-circle\" title=\"Solved\"></i></td><td class=\"sorting_1\">Iamtheflag</td><td>Correct</td><td>25</td><td>2020-09-08, 12:02:05 PM</td></tr><tr class=\"even\"><td><a href=\"https://cybertalents.com/challenges/cryptography/guess-the-password\">Guess The Password</a> <i class=\"text-success fa fa-check-circle\" title=\"Solved\"></i></td><td class=\"sorting_1\">jrahyn+</td><td>Correct</td><td>50</td><td>2020-09-17, 06:35:31 AM</td></tr><tr class=\"odd\"><td><a href=\"https://cybertalents.com/challenges/forensics/gp-list\">G&amp;P List</a></td><td class=\"sorting_1\">877c1fa0445adaedc5365d9c139c5219PK</td><td>Wrong</td><td>0</td><td>2020-09-23, 02:22:27 PM</td></tr><tr class=\"even\"><td><a href=\"https://cybertalents.com/challenges/forensics/gp-list\">G&amp;P List</a></td><td class=\"sorting_1\">Flag.txt877c1fa0445adaedc5365d9c139c5219PK</td><td>Wrong</td><td>0</td><td>2020-09-23, 02:24:37 PM</td></tr><tr class=\"odd\"><td><a href=\"https://cybertalents.com/challenges/forensics/gp-list\">G&amp;P List</a></td><td class=\"sorting_1\">txt877c1fa0445adaedc5365d9c139c5219PK</td><td>Wrong</td><td>0</td><td>2020-09-23, 02:30:02 PM</td></tr><tr class=\"even\"><td><a href=\"https://cybertalents.com/challenges/forensics/gp-list\">G&amp;P List</a></td><td class=\"sorting_1\">.txt877c1fa0445adaedc5365d9c139c5219PK</td><td>Wrong</td><td>0</td><td>2020-09-23, 02:31:09 PM</td></tr><tr class=\"odd\"><td><a href=\"https://cybertalents.com/challenges/general-information/hackers-gathering\">Hackers Gathering</a></td><td class=\"sorting_1\">def con</td><td>Wrong</td><td>0</td><td>2020-09-23, 02:34:17 PM</td></tr><tr class=\"even\"><td><a href=\"https://cybertalents.com/challenges/general-information/hackers-gathering\">Hackers Gathering</a> <i class=\"text-success fa fa-check-circle\" title=\"Solved\"></i></td><td class=\"sorting_1\">Defcon</td><td>Correct</td><td>25</td><td>2020-09-23, 02:34:36 PM</td></tr><tr class=\"odd\"><td><a href=\"https://cybertalents.com/challenges/general-information/back-2-history\">Back to History</a> <i class=\"text-success fa fa-check-circle\" title=\"Solved\"></i></td><td class=\"sorting_1\">brain</td><td>Correct</td><td>25</td><td>2020-09-23, 02:35:12 PM</td></tr><tr class=\"even\"><td><a href=\"https://cybertalents.com/challenges/general-information/business-gathering\">Business Gathering</a></td><td class=\"sorting_1\">rsa conference</td><td>Wrong</td><td>0</td><td>2020-09-23, 02:39:16 PM</td></tr><tr class=\"odd\"><td><a href=\"https://cybertalents.com/challenges/general-information/business-gathering\">Business Gathering</a></td><td class=\"sorting_1\">RSA conference</td><td>Wrong</td><td>0</td><td>2020-09-23, 02:39:36 PM</td></tr><tr class=\"even\"><td><a href=\"https://cybertalents.com/challenges/general-information/business-gathering\">Business Gathering</a></td><td class=\"sorting_1\">RSA Conference</td><td>Wrong</td><td>0</td><td>2020-09-23, 02:40:11 PM</td></tr><tr class=\"odd\"><td><a href=\"https://cybertalents.com/challenges/general-information/business-gathering\">Business Gathering</a></td><td class=\"sorting_1\">RSA Conference</td><td>Wrong</td><td>0</td><td>2020-09-23, 02:40:44 PM</td></tr><tr class=\"even\"><td><a href=\"https://cybertalents.com/challenges/general-information/business-gathering\">Business Gathering</a> <i class=\"text-success fa fa-check-circle\" title=\"Solved\"></i></td><td class=\"sorting_1\">rsaConference</td><td>Correct</td><td>25</td><td>2020-09-23, 02:41:11 PM</td></tr><tr class=\"odd\"><td><a href=\"https://cybertalents.com/challenges/general-information/founder\">Founder</a> <i class=\"text-success fa fa-check-circle\" title=\"Solved\"></i></td><td class=\"sorting_1\">tangent</td><td>Correct</td><td>25</td><td>2020-09-23, 02:41:48 PM</td></tr><tr class=\"even\"><td><a href=\"https://cybertalents.com/challenges/general-information/contribute\">Contribute</a> <i class=\"text-success fa fa-check-circle\" title=\"Solved\"></i></td><td class=\"sorting_1\">OWASP</td><td>Correct</td><td>25</td><td>2020-09-23, 02:43:03 PM</td></tr><tr class=\"odd\"><td><a href=\"https://cybertalents.com/challenges/general-information/greeks\">Greeks</a> <i class=\"text-success fa fa-check-circle\" title=\"Solved\"></i></td><td class=\"sorting_1\">Steganography</td><td>Correct</td><td>50</td><td>2020-09-23, 02:43:51 PM</td></tr><tr class=\"even\"><td><a href=\"https://cybertalents.com/challenges/general-information/robot\">Robot</a> <i class=\"text-success fa fa-check-circle\" title=\"Solved\"></i></td><td class=\"sorting_1\">bot</td><td>Correct</td><td>50</td><td>2020-09-23, 02:44:26 PM</td></tr><tr class=\"odd\"><td><a href=\"https://cybertalents.com/challenges/general-information/japanese-warrior\">Japanese Warrior</a> <i class=\"text-success fa fa-check-circle\" title=\"Solved\"></i></td><td class=\"sorting_1\">SamuraiSTFU</td><td>Correct</td><td>50</td><td>2020-09-23, 02:46:04 PM</td></tr><tr class=\"even\"><td><a href=\"https://cybertalents.com/challenges/general-information/close-look\">Close Look</a> <i class=\"text-success fa fa-check-circle\" title=\"Solved\"></i></td><td class=\"sorting_1\">Packetrix</td><td>Correct</td><td>100</td><td>2020-09-23, 02:46:56 PM</td></tr><tr class=\"odd\"><td><a href=\"https://cybertalents.com/challenges/general-information/pay-me\">Pay Me</a> <i class=\"text-success fa fa-check-circle\" title=\"Solved\"></i></td><td class=\"sorting_1\">Ransomware</td><td>Correct</td><td>25</td><td>2020-09-23, 02:47:25 PM</td></tr><tr class=\"even\"><td><a href=\"https://cybertalents.com/challenges/general-information/trendmicro-conference\">TrendMicro Conference</a> <i class=\"text-success fa fa-check-circle\" title=\"Solved\"></i></td><td class=\"sorting_1\">CloudSec</td><td>Correct</td><td>25</td><td>2020-09-23, 02:47:48 PM</td></tr><tr class=\"odd\"><td><a href=\"https://cybertalents.com/challenges/general-information/intercept\">Intercept</a> <i class=\"text-success fa fa-check-circle\" title=\"Solved\"></i></td><td class=\"sorting_1\">MITM</td><td>Correct</td><td>25</td><td>2020-09-23, 02:48:15 PM</td></tr><tr class=\"even\"><td><a href=\"https://cybertalents.com/challenges/general-information/modify-code\">Modify Code</a> <i class=\"text-success fa fa-check-circle\" title=\"Solved\"></i></td><td class=\"sorting_1\">Obfuscation</td><td>Correct</td><td>50</td><td>2020-09-23, 02:48:44 PM</td></tr><tr class=\"odd\"><td><a href=\"https://cybertalents.com/challenges/general-information/my-box\">My box</a> <i class=\"text-success fa fa-check-circle\" title=\"Solved\"></i></td><td class=\"sorting_1\">Black</td><td>Correct</td><td>25</td><td>2020-09-23, 02:49:19 PM</td></tr><tr class=\"even\"><td><a href=\"https://cybertalents.com/challenges/general-information/crash\">Crash</a> <i class=\"text-success fa fa-check-circle\" title=\"Solved\"></i></td><td class=\"sorting_1\">fuzzing</td><td>Correct</td><td>50</td><td>2020-09-23, 02:49:42 PM</td></tr><tr class=\"odd\"><td><a href=\"https://cybertalents.com/challenges/general-information/scan\">Scan</a> <i class=\"text-success fa fa-check-circle\" title=\"Solved\"></i></td><td class=\"sorting_1\">nmap</td><td>Correct</td><td>50</td><td>2020-09-23, 02:50:16 PM</td></tr><tr class=\"even\"><td><a href=\"https://cybertalents.com/challenges/general-information/capture\">Capture</a> <i class=\"text-success fa fa-check-circle\" title=\"Solved\"></i></td><td class=\"sorting_1\">wireshark</td><td>Correct</td><td>50</td><td>2020-09-23, 02:50:38 PM</td></tr><tr class=\"odd\"><td><a href=\"https://cybertalents.com/challenges/general-information/scada\">SCADA</a></td><td class=\"sorting_1\">zeroday</td><td>Wrong</td><td>0</td><td>2020-09-23, 02:51:49 PM</td></tr><tr class=\"even\"><td><a href=\"https://cybertalents.com/challenges/general-information/scada\">SCADA</a> <i class=\"text-success fa fa-check-circle\" title=\"Solved\"></i></td><td class=\"sorting_1\">stuxnet</td><td>Correct</td><td>50</td><td>2020-09-23, 02:52:14 PM</td></tr><tr class=\"odd\"><td><a href=\"https://cybertalents.com/challenges/general-information/precious-vulnerability\">Precious Vulnerability</a> <i class=\"text-success fa fa-check-circle\" title=\"Solved\"></i></td><td class=\"sorting_1\">zeroday</td><td>Correct</td><td>50</td><td>2020-09-23, 02:52:40 PM</td></tr><tr class=\"even\"><td><a href=\"https://cybertalents.com/challenges/general-information/user-name\">User Name</a> <i class=\"text-success fa fa-check-circle\" title=\"Solved\"></i></td><td class=\"sorting_1\">root</td><td>Correct</td><td>25</td><td>2020-09-23, 02:53:15 PM</td></tr><tr class=\"odd\"><td><a href=\"https://cybertalents.com/challenges/general-information/cash\">Cash</a> <i class=\"text-success fa fa-check-circle\" title=\"Solved\"></i></td><td class=\"sorting_1\">poisoning</td><td>Correct</td><td>50</td><td>2020-09-23, 02:53:47 PM</td></tr><tr class=\"even\"><td><a href=\"https://cybertalents.com/challenges/general-information/dont-trust-senders\">Do you trust senders</a></td><td class=\"sorting_1\">social engineering</td><td>Wrong</td><td>0</td><td>2020-09-23, 02:56:49 PM</td></tr><tr class=\"odd\"><td><a href=\"https://cybertalents.com/challenges/web/weird-blog\">Weird Blog</a></td><td class=\"sorting_1\">weird</td><td>Wrong</td><td>0</td><td>2020-09-23, 03:08:10 PM</td></tr><tr class=\"even\"><td><a href=\"https://cybertalents.com/challenges/web/weird-blog\">Weird Blog</a></td><td class=\"sorting_1\">weird</td><td>Wrong</td><td>0</td><td>2020-09-23, 03:08:30 PM</td></tr><tr class=\"odd\"><td><a href=\"https://cybertalents.com/challenges/web/weird-blog\">Weird Blog</a></td><td class=\"sorting_1\">weirdblog</td><td>Wrong</td><td>0</td><td>2020-09-23, 03:08:48 PM</td></tr><tr class=\"even\"><td><a href=\"https://cybertalents.com/challenges/web/weird-blog\">Weird Blog</a></td><td class=\"sorting_1\">placehold.it</td><td>Wrong</td><td>0</td><td>2020-09-23, 03:13:05 PM</td></tr><tr class=\"odd\"><td><a href=\"https://cybertalents.com/challenges/malware/eye-of-sauron\">Eye of Sauron</a></td><td class=\"sorting_1\">b77a5c561934e089</td><td>Wrong</td><td>0</td><td>2020-09-23, 03:25:33 PM</td></tr><tr class=\"even\"><td><a href=\"https://cybertalents.com/challenges/malware/eye-of-sauron\">Eye of Sauron</a></td><td class=\"sorting_1\">This program cannot be run in DOS mode</td><td>Wrong</td><td>0</td><td>2020-09-23, 03:27:20 PM</td></tr><tr class=\"odd\"><td><a href=\"https://cybertalents.com/challenges/cryptography/red-stone-admin\">Red Stone Admin</a></td><td class=\"sorting_1\">31337</td><td>Wrong</td><td>0</td><td>2020-09-23, 03:31:54 PM</td></tr><tr class=\"even\"><td><a href=\"https://cybertalents.com/challenges/cryptography/red-stone-admin\">Red Stone Admin</a></td><td class=\"sorting_1\">0</td><td>Wrong</td><td>0</td><td>2020-09-23, 03:34:50 PM</td></tr><tr class=\"odd\"><td><a href=\"https://cybertalents.com/challenges/web/admin-has-the-power\">Admin has the power</a> <i class=\"text-success fa fa-check-circle\" title=\"Solved\"></i></td><td class=\"sorting_1\">hiadminyouhavethepower</td><td>Correct</td><td>50</td><td>2020-10-01, 11:48:16 PM</td></tr><tr class=\"even\"><td><a href=\"https://cybertalents.com/challenges/general-information/dont-trust-senders\">Do you trust senders</a></td><td class=\"sorting_1\">phishing</td><td>Wrong</td><td>0</td><td>2020-10-02, 12:00:24 AM</td></tr><tr class=\"odd\"><td><a href=\"https://cybertalents.com/challenges/general-information/dont-trust-senders\">Do you trust senders</a></td><td class=\"sorting_1\">phishing</td><td>Wrong</td><td>0</td><td>2020-10-02, 12:01:07 AM</td></tr><tr class=\"even\"><td><a href=\"https://cybertalents.com/challenges/general-information/dont-trust-senders\">Do you trust senders</a> <i class=\"text-success fa fa-check-circle\" title=\"Solved\"></i></td><td class=\"sorting_1\">spoofing</td><td>Correct</td><td>50</td><td>2020-10-02, 12:01:26 AM</td></tr><tr class=\"odd\"><td><a href=\"https://cybertalents.com/challenges/web/this-is-sparta\">This is Sparta</a> <i class=\"text-success fa fa-check-circle\" title=\"Solved\"></i></td><td class=\"sorting_1\">{J4V4_Scr1Pt_1S_Aw3s0me}</td><td>Correct</td><td>50</td><td>2020-10-02, 01:09:08 AM</td></tr><tr class=\"even\"><td><a href=\"https://cybertalents.com/challenges/web/share-ideas\">share the ideas</a> <i class=\"text-success fa fa-check-circle\" title=\"Solved\"></i></td><td class=\"sorting_1\">flag245698</td><td>Correct</td><td>100</td><td>2020-10-02, 01:26:19 AM</td></tr><tr class=\"odd\"><td><a href=\"https://cybertalents.com/challenges/web/iam-legend\">Iam Legend</a> <i class=\"text-success fa fa-check-circle\" title=\"Solved\"></i></td><td class=\"sorting_1\">{J4V4_Scr1Pt_1S_S0_D4MN_FUN}</td><td>Correct</td><td>50</td><td>2020-10-02, 01:36:04 AM</td></tr><tr class=\"even\"><td><a href=\"https://cybertalents.com/challenges/web/newsletter\">Newsletter</a></td><td class=\"sorting_1\">hgdr64.backup.tar.gz &amp;quot;</td><td>Wrong</td><td>0</td><td>2020-10-02, 01:40:13 AM</td></tr><tr class=\"odd\"><td><a href=\"https://cybertalents.com/challenges/web/newsletter\">Newsletter</a> <i class=\"text-success fa fa-check-circle\" title=\"Solved\"></i></td><td class=\"sorting_1\">hgdr64.backup.tar.gz</td><td>Correct</td><td>50</td><td>2020-10-02, 01:40:37 AM</td></tr><tr class=\"even\"><td><a href=\"https://cybertalents.com/challenges/web/cool-name-effect\">Cool Name Effect</a></td><td class=\"sorting_1\">(ciyypjz)</td><td>Wrong</td><td>0</td><td>2020-10-02, 01:43:06 AM</td></tr><tr class=\"odd\"><td><a href=\"https://cybertalents.com/challenges/web/cool-name-effect\">Cool Name Effect</a></td><td class=\"sorting_1\">flag (ciyypjz)</td><td>Wrong</td><td>0</td><td>2020-10-02, 01:43:41 AM</td></tr><tr class=\"even\"><td><a href=\"https://cybertalents.com/challenges/web/cool-name-effect\">Cool Name Effect</a> <i class=\"text-success fa fa-check-circle\" title=\"Solved\"></i></td><td class=\"sorting_1\">ciyypjz</td><td>Correct</td><td>50</td><td>2020-10-02, 01:44:00 AM</td></tr><tr class=\"odd\"><td><a href=\"https://cybertalents.com/challenges/web/encrypted-database\">Encrypted Database</a> <i class=\"text-success fa fa-check-circle\" title=\"Solved\"></i></td><td class=\"sorting_1\">badboy</td><td>Correct</td><td>50</td><td>2020-10-02, 01:44:50 AM</td></tr><tr class=\"even\"><td><a href=\"https://cybertalents.com/challenges/cryptography/lineq\">lineq</a> <i class=\"text-success fa fa-check-circle\" title=\"Solved\"></i></td><td class=\"sorting_1\">FLAG{M0DUL4R_4LG3BR4_EeZ}</td><td>Correct</td><td>100</td><td>2020-10-02, 02:00:35 AM</td></tr><tr class=\"odd\"><td><a href=\"https://cybertalents.com/challenges/cryptography/genfei\">genfei</a> <i class=\"text-success fa fa-check-circle\" title=\"Solved\"></i></td><td class=\"sorting_1\">FLAG{G3N3R4L123D_F31573L_EZ!}</td><td>Correct</td><td>100</td><td>2020-10-02, 02:09:55 AM</td></tr><tr class=\"even\"><td><a href=\"https://cybertalents.com/challenges/general-information/pay-me\">Pay Me</a></td><td class=\"sorting_1\">ramsomware</td><td>Wrong</td><td>0</td><td>2021-03-11, 01:29:01 PM</td></tr><tr class=\"odd\"><td><a href=\"https://cybertalents.com/challenges/general-information/pay-me\">Pay Me</a></td><td class=\"sorting_1\">ransomeware</td><td>Wrong</td><td>0</td><td>2021-03-11, 01:29:19 PM</td></tr><tr class=\"even\"><td><a href=\"https://cybertalents.com/challenges/general-information/pay-me\">Pay Me</a></td><td class=\"sorting_1\">Ransomware</td><td>Correct</td><td>0</td><td>2021-03-11, 01:29:54 PM</td></tr><tr class=\"odd\"><td><a href=\"https://cybertalents.com/challenges/general-information/htmlentities\">htmlentities</a> <i class=\"text-success fa fa-check-circle\" title=\"Solved\"></i></td><td class=\"sorting_1\">False</td><td>Correct</td><td>50</td><td>2021-03-11, 01:31:42 PM</td></tr><tr class=\"even\"><td><a href=\"https://cybertalents.com/challenges/cryptography/hash3rror\">Hash3rror</a> <i class=\"text-success fa fa-check-circle\" title=\"Solved\"></i></td><td class=\"sorting_1\">83874343435092cb681c0d558a84bfeb389c32ed</td><td>Correct</td><td>50</td><td>2021-03-11, 01:35:47 PM</td></tr><tr class=\"odd\"><td><a href=\"https://cybertalents.com/challenges/web/who-am-i\">who am i?</a></td><td class=\"sorting_1\">B@D_4uTh1Nt1C4Ti0n</td><td>Wrong</td><td>0</td><td>2021-03-11, 01:53:38 PM</td></tr><tr class=\"even\"><td><a href=\"https://cybertalents.com/challenges/web/who-am-i\">who am i?</a> <i class=\"text-success fa fa-check-circle\" title=\"Solved\"></i></td><td class=\"sorting_1\">FLag{B@D_4uTh1Nt1C4Ti0n}</td><td>Correct</td><td>50</td><td>2021-03-11, 01:54:00 PM</td></tr><tr class=\"odd\"><td><a href=\"https://cybertalents.com/challenges/web/searching-for-the-cookie\">Searching for the cookie</a> <i class=\"text-success fa fa-check-circle\" title=\"Solved\"></i></td><td class=\"sorting_1\">coolcookie112</td><td>Correct</td><td>100</td><td>2021-03-11, 01:59:24 PM</td></tr><tr class=\"even\"><td><a href=\"https://cybertalents.com/challenges/web/who-am-i\">who am i?</a></td><td class=\"sorting_1\">FLag{B@D_4uTh1Nt1C4Ti0n}</td><td>Correct</td><td>0</td><td>2021-03-17, 12:36:33 PM</td></tr><tr class=\"odd\"><td><a href=\"https://cybertalents.com/challenges/cryptography/rsa101\">RSA101</a> <i class=\"text-success fa fa-check-circle\" title=\"Solved\"></i></td><td class=\"sorting_1\">flag{RSA_nice_try}</td><td>Correct</td><td>25</td><td>2021-03-17, 02:42:20 PM</td></tr><tr class=\"even\"><td><a href=\"https://cybertalents.com/challenges/general-information/security-model\">security model</a></td><td class=\"sorting_1\">CIA triad</td><td>Wrong</td><td>0</td><td>2021-03-17, 02:45:48 PM</td></tr><tr class=\"odd\"><td><a href=\"https://cybertalents.com/challenges/general-information/security-model\">security model</a> <i class=\"text-success fa fa-check-circle\" title=\"Solved\"></i></td><td class=\"sorting_1\">CIA</td><td>Correct</td><td>25</td><td>2021-03-17, 02:46:03 PM</td></tr><tr class=\"even\"><td><a href=\"https://cybertalents.com/challenges/cryptography/louder\">LOUDER</a></td><td class=\"sorting_1\">flag{am speaking louder than before}</td><td>Wrong</td><td>0</td><td>2021-03-17, 02:53:25 PM</td></tr><tr class=\"odd\"><td><a href=\"https://cybertalents.com/challenges/cryptography/louder\">LOUDER</a> <i class=\"text-success fa fa-check-circle\" title=\"Solved\"></i></td><td class=\"sorting_1\">flag{I AM SPEAKING LOUDER THAN BEFORE}</td><td>Correct</td><td>50</td><td>2021-03-17, 02:53:57 PM</td></tr><tr class=\"even\"><td><a href=\"https://cybertalents.com/challenges/cryptography/hide-data\">Hide Data</a> <i class=\"text-success fa fa-check-circle\" title=\"Solved\"></i></td><td class=\"sorting_1\">2j68yfhqlz</td><td>Correct</td><td>50</td><td>2021-03-17, 02:57:40 PM</td></tr><tr class=\"odd\"><td><a href=\"https://cybertalents.com/challenges/web/the-restricted-sessions\">The Restricted Sessions</a> <i class=\"text-success fa fa-check-circle\" title=\"Solved\"></i></td><td class=\"sorting_1\">sessionareawesomebutifitsecure</td><td>Correct</td><td>100</td><td>2021-03-18, 10:24:02 AM</td></tr><tr class=\"even\"><td><a href=\"https://cybertalents.com/challenges/malware/getting-started\">getting started</a> <i class=\"text-success fa fa-check-circle\" title=\"Solved\"></i></td><td class=\"sorting_1\">flag{welcome_to_level_1}</td><td>Correct</td><td>50</td><td>2021-05-10, 02:15:43 PM</td></tr><tr class=\"odd\"><td><a href=\"https://cybertalents.com/challenges/malware/pure-luck\">Pure Luck</a> <i class=\"text-success fa fa-check-circle\" title=\"Solved\"></i></td><td class=\"sorting_1\">flag{UPX_is_so_eaaaasyy}</td><td>Correct</td><td>25</td><td>2021-05-10, 02:17:05 PM</td></tr><tr class=\"even\"><td><a href=\"https://cybertalents.com/challenges/web/hashable\">Hashable</a></td><td class=\"sorting_1\">flag{!njection_3v3ry_wh3r3}</td><td>Wrong</td><td>0</td><td>2021-05-20, 09:14:22 AM</td></tr><tr class=\"odd\"><td><a href=\"https://cybertalents.com/challenges/web/easy-access\">Easy access</a> <i class=\"text-success fa fa-check-circle\" title=\"Solved\"></i></td><td class=\"sorting_1\">flag{!njection_3v3ry_wh3r3}</td><td>Correct</td><td>50</td><td>2021-05-20, 09:15:07 AM</td></tr><tr class=\"even\"><td><a href=\"https://cybertalents.com/challenges/web/maximum-courage\">Maximum Courage</a> <i class=\"text-success fa fa-check-circle\" title=\"Solved\"></i></td><td class=\"sorting_1\">be607453caada6a05d00c0ea0057f733</td><td>Correct</td><td>50</td><td>2021-05-20, 09:15:52 AM</td></tr><tr class=\"odd\"><td><a href=\"https://cybertalents.com/challenges/web/bean\">bean</a> <i class=\"text-success fa fa-check-circle\" title=\"Solved\"></i></td><td class=\"sorting_1\">FLAG{Nginx_nOt_aLWays_sEcUre_bY_The_waY}</td><td>Correct</td><td>50</td><td>2021-05-20, 09:17:05 AM</td></tr><tr class=\"even\"><td><a href=\"https://cybertalents.com/challenges/malware/Find-the-pass\">Find the Pass</a> <i class=\"text-success fa fa-check-circle\" title=\"Solved\"></i></td><td class=\"sorting_1\">flag{0x401180|0x401100|0x4020f8}</td><td>Correct</td><td>25</td><td>2021-05-20, 09:18:08 AM</td></tr><tr class=\"odd\"><td><a href=\"https://cybertalents.com/challenges/malware/asm-parameter\">bronze ASM</a> <i class=\"text-success fa fa-check-circle\" title=\"Solved\"></i></td><td class=\"sorting_1\">FLAG{0_2CE_0}</td><td>Correct</td><td>50</td><td>2021-05-20, 09:20:14 AM</td></tr><tr class=\"even\"><td><a href=\"https://cybertalents.com/challenges/forensics/packet-abomination\">Packet abomination</a></td><td class=\"sorting_1\">flag{Hello_again_:D}</td><td>Wrong</td><td>0</td><td>2021-05-20, 09:36:48 AM</td></tr><tr class=\"odd\"><td><a href=\"https://cybertalents.com/challenges/forensics/packet-abomination\">Packet abomination</a></td><td class=\"sorting_1\">flag{Hello_again_:D}</td><td>Wrong</td><td>0</td><td>2021-05-20, 09:37:03 AM</td></tr><tr class=\"even\"><td><a href=\"https://cybertalents.com/challenges/forensics/packet-abomination\">Packet abomination</a> <i class=\"text-success fa fa-check-circle\" title=\"Solved\"></i></td><td class=\"sorting_1\">5a365f92d8c7f2e2c109974f5fc85ed5</td><td>Correct</td><td>100</td><td>2021-05-20, 09:37:57 AM</td></tr><tr class=\"odd\"><td><a href=\"https://cybertalents.com/challenges/forensics/jtag-dump\">JTAG Dump</a> <i class=\"text-success fa fa-check-circle\" title=\"Solved\"></i></td><td class=\"sorting_1\">Flag{Remember_header_then_footer}</td><td>Correct</td><td>100</td><td>2021-05-20, 09:39:12 AM</td></tr><tr class=\"even\"><td><a href=\"https://cybertalents.com/challenges/forensics/raw-disk\">Raw Disk</a> <i class=\"text-success fa fa-check-circle\" title=\"Solved\"></i></td><td class=\"sorting_1\">flag{Hello_again_:D}</td><td>Correct</td><td>100</td><td>2021-05-20, 09:39:58 AM</td></tr><tr class=\"odd\"><td><a href=\"https://cybertalents.com/challenges/forensics/adsl-modem\">ADSL Modem</a> <i class=\"text-success fa fa-check-circle\" title=\"Solved\"></i></td><td class=\"sorting_1\">Flag{reversing_FW_is_interesting_but_this_is_for_fun}</td><td>Correct</td><td>100</td><td>2021-05-20, 09:40:33 AM</td></tr><tr class=\"even\"><td><a href=\"https://cybertalents.com/challenges/forensics/cypher-anxiety\">Cypher Anxiety</a> <i class=\"text-success fa fa-check-circle\" title=\"Solved\"></i></td><td class=\"sorting_1\">3beef06be834f3151309037dde4714ec</td><td>Correct</td><td>50</td><td>2021-05-20, 09:41:12 AM</td></tr><tr class=\"odd\"><td><a href=\"https://cybertalents.com/challenges/forensics/gp-list\">G&amp;P List</a> <i class=\"text-success fa fa-check-circle\" title=\"Solved\"></i></td><td class=\"sorting_1\">877c1fa0445adaedc5365d9c139c5219</td><td>Correct</td><td>25</td><td>2021-05-20, 09:41:44 AM</td></tr><tr class=\"even\"><td><a href=\"https://cybertalents.com/challenges/forensics/lost-files\">Lost Files</a> <i class=\"text-success fa fa-check-circle\" title=\"Solved\"></i></td><td class=\"sorting_1\">Flag(You_Get_It_2)</td><td>Correct</td><td>100</td><td>2021-05-20, 09:42:21 AM</td></tr><tr class=\"odd\"><td><a href=\"https://cybertalents.com/challenges/forensics/partition-lost\">Partition Lost</a> <i class=\"text-success fa fa-check-circle\" title=\"Solved\"></i></td><td class=\"sorting_1\">FLAG(701_L@b$_DR_DFIR)</td><td>Correct</td><td>50</td><td>2021-05-20, 09:42:51 AM</td></tr><tr class=\"even\"><td><a href=\"https://cybertalents.com/challenges/forensics/hidden-message\">Hidden Message</a> <i class=\"text-success fa fa-check-circle\" title=\"Solved\"></i></td><td class=\"sorting_1\">b1a1f2855d2428930e0c9c4ce10500d5</td><td>Correct</td><td>25</td><td>2021-05-20, 09:43:18 AM</td></tr><tr class=\"odd\"><td><a href=\"https://cybertalents.com/challenges/forensics/keep-it-simple\">Keep it Simple</a> <i class=\"text-success fa fa-check-circle\" title=\"Solved\"></i></td><td class=\"sorting_1\">{S1mpl3sty_i$_th_@nswer}</td><td>Correct</td><td>50</td><td>2021-05-20, 09:59:43 AM</td></tr><tr class=\"even\"><td><a href=\"https://cybertalents.com/challenges/forensics/keep-it-simple\">Keep it Simple</a></td><td class=\"sorting_1\">{S1mpl3sty_i$_th_@nswer}</td><td>Correct</td><td>0</td><td>2021-05-20, 10:02:28 AM</td></tr><tr class=\"odd\"><td><a href=\"https://cybertalents.com/challenges/forensics/linuxcmd-101\">Linuxcmd 101</a> <i class=\"text-success fa fa-check-circle\" title=\"Solved\"></i></td><td class=\"sorting_1\">flag{s1mple_linux_101}</td><td>Correct</td><td>100</td><td>2021-05-20, 10:05:30 AM</td></tr><tr class=\"even\"><td><a href=\"https://cybertalents.com/challenges/forensics/xmen-files\">XMEN-Files</a> <i class=\"text-success fa fa-check-circle\" title=\"Solved\"></i></td><td class=\"sorting_1\">flag{w0lv3rin3_hey_it5_m3}</td><td>Correct</td><td>100</td><td>2021-05-20, 10:07:10 AM</td></tr><tr class=\"odd\"><td><a href=\"https://cybertalents.com/challenges/forensics/keep-calm\">Keep Calm</a></td><td class=\"sorting_1\">U2NMTIzNDzg5MAo= : ScLLÍ890</td><td>Wrong</td><td>0</td><td>2021-05-20, 10:10:09 AM</td></tr><tr class=\"even\"><td><a href=\"https://cybertalents.com/challenges/forensics/keep-calm\">Keep Calm</a></td><td class=\"sorting_1\">U2NMTIzNDzg5MAo=</td><td>Wrong</td><td>0</td><td>2021-05-20, 10:11:37 AM</td></tr><tr class=\"odd\"><td><a href=\"https://cybertalents.com/challenges/forensics/hack-a-nice-day\">Hack a nice day</a> <i class=\"text-success fa fa-check-circle\" title=\"Solved\"></i></td><td class=\"sorting_1\">flag{Stegn0_1s_n!ce}</td><td>Correct</td><td>100</td><td>2021-05-20, 10:13:47 AM</td></tr><tr class=\"even\"><td><a href=\"https://cybertalents.com/challenges/forensics/check-my-usb\">Check My USB</a> <i class=\"text-success fa fa-check-circle\" title=\"Solved\"></i></td><td class=\"sorting_1\">Flag{This_Usb_Traffic_Capture}</td><td>Correct</td><td>100</td><td>2021-05-20, 10:15:03 AM</td></tr><tr class=\"odd\"><td><a href=\"https://cybertalents.com/challenges/forensics/sad-mummy\">Sad mummy</a></td><td class=\"sorting_1\">flag{Keep_searching}</td><td>Wrong</td><td>0</td><td>2021-05-20, 10:16:11 AM</td></tr><tr class=\"even\"><td><a href=\"https://cybertalents.com/challenges/forensics/sad-mummy\">Sad mummy</a> <i class=\"text-success fa fa-check-circle\" title=\"Solved\"></i></td><td class=\"sorting_1\">flag{Grep_R_1s_Gr8}</td><td>Correct</td><td>50</td><td>2021-05-20, 10:16:30 AM</td></tr><tr class=\"odd\"><td><a href=\"https://cybertalents.com/challenges/forensics/x-file\">X-File</a> <i class=\"text-success fa fa-check-circle\" title=\"Solved\"></i></td><td class=\"sorting_1\">flag{Pa55w0rd_Cracking_is_3asy}</td><td>Correct</td><td>50</td><td>2021-05-20, 10:17:44 AM</td></tr><tr class=\"even\"><td><a href=\"https://cybertalents.com/challenges/forensics/images3c\">Images3c</a> <i class=\"text-success fa fa-check-circle\" title=\"Solved\"></i></td><td class=\"sorting_1\">flag{cyb3rs3cisaw3s0me}</td><td>Correct</td><td>50</td><td>2021-05-20, 10:18:37 AM</td></tr><tr class=\"odd\"><td><a href=\"https://cybertalents.com/challenges/forensics/anonymous\">Anonymous</a> <i class=\"text-success fa fa-check-circle\" title=\"Solved\"></i></td><td class=\"sorting_1\">flag{anonymous_t0_th3_end}</td><td>Correct</td><td>50</td><td>2021-05-20, 10:19:15 AM</td></tr><tr class=\"even\"><td><a href=\"https://cybertalents.com/challenges/forensics/deleted\">deleted</a> <i class=\"text-success fa fa-check-circle\" title=\"Solved\"></i></td><td class=\"sorting_1\">flag{d3l3t3dbuty0ukn0wit}</td><td>Correct</td><td>50</td><td>2021-05-20, 10:19:47 AM</td></tr><tr class=\"odd\"><td><a href=\"https://cybertalents.com/challenges/forensics/antonia\">Antonia</a> <i class=\"text-success fa fa-check-circle\" title=\"Solved\"></i></td><td class=\"sorting_1\">flag{1e3edf3ddecde0d526f39b43bab32c2d:5555f38733d3c62a7b5b05f4aae53b46c34c1be3}</td><td>Correct</td><td>50</td><td>2021-05-20, 10:20:31 AM</td></tr><tr class=\"even\"><td><a href=\"https://cybertalents.com/challenges/forensics/search-trash\">Search in Trash</a> <i class=\"text-success fa fa-check-circle\" title=\"Solved\"></i></td><td class=\"sorting_1\">FLag{Fat_32_DF_2}</td><td>Correct</td><td>50</td><td>2021-05-20, 10:31:44 AM</td></tr><tr class=\"odd\"><td><a href=\"https://cybertalents.com/challenges/forensics/file-found\">File Found</a> <i class=\"text-success fa fa-check-circle\" title=\"Solved\"></i></td><td class=\"sorting_1\">FLAG{FORENSICS_101}</td><td>Correct</td><td>50</td><td>2021-05-20, 10:32:31 AM</td></tr><tr class=\"even\"><td><a href=\"https://cybertalents.com/challenges/forensics/i-love-images\">I love images</a> <i class=\"text-success fa fa-check-circle\" title=\"Solved\"></i></td><td class=\"sorting_1\">FLAG{Not_Only_Base64}</td><td>Correct</td><td>50</td><td>2021-05-20, 10:33:15 AM</td></tr><tr class=\"odd\"><td><a href=\"https://cybertalents.com/challenges/forensics/ctbank\">CTBank</a> <i class=\"text-success fa fa-check-circle\" title=\"Solved\"></i></td><td class=\"sorting_1\">flag{!_l0v3_sql_!nj3ct!0n}</td><td>Correct</td><td>50</td><td>2021-05-20, 10:34:12 AM</td></tr><tr class=\"even\"><td><a href=\"https://cybertalents.com/challenges/general-information/crime-scene\">Crime scene</a></td><td class=\"sorting_1\">FLAG{p@!nting_i5_4wes0m3}</td><td>Wrong</td><td>0</td><td>2021-05-21, 12:38:24 PM</td></tr><tr class=\"odd\"><td><a href=\"https://cybertalents.com/challenges/general-information/crime-scene\">Crime scene</a> <i class=\"text-success fa fa-check-circle\" title=\"Solved\"></i></td><td class=\"sorting_1\">forensics</td><td>Correct</td><td>25</td><td>2021-05-21, 12:39:16 PM</td></tr><tr class=\"even\"><td><a href=\"https://cybertalents.com/challenges/forensics/monaliza\">Monaliza</a> <i class=\"text-success fa fa-check-circle\" title=\"Solved\"></i></td><td class=\"sorting_1\">FLAG{p@!nting_i5_4wes0m3}</td><td>Correct</td><td>100</td><td>2021-05-21, 12:40:32 PM</td></tr><tr class=\"odd\"><td><a href=\"https://cybertalents.com/challenges/forensics/bflag\">bflag</a> <i class=\"text-success fa fa-check-circle\" title=\"Solved\"></i></td><td class=\"sorting_1\">analyze_packet_for_fun</td><td>Correct</td><td>50</td><td>2021-05-21, 12:41:27 PM</td></tr><tr class=\"even\"><td><a href=\"https://cybertalents.com/challenges/web/hashable\">Hashable</a> <i class=\"text-success fa fa-check-circle\" title=\"Solved\"></i></td><td class=\"sorting_1\">18ab51f960bd149bcb2497b9998c752c</td><td>Correct</td><td>100</td><td>2021-05-21, 12:42:26 PM</td></tr><tr class=\"odd\"><td><a href=\"https://cybertalents.com/challenges/forensics/i-love-music\">I love music</a> <i class=\"text-success fa fa-check-circle\" title=\"Solved\"></i></td><td class=\"sorting_1\">you_are_victorious!</td><td>Correct</td><td>100</td><td>2021-05-21, 12:43:10 PM</td></tr></tbody></table>\"\"\""
      ],
      "execution_count": null,
      "outputs": []
    },
    {
      "cell_type": "code",
      "metadata": {
        "id": "Ff-WQgrFGAsW"
      },
      "source": [
        "df=pd.read_html(html)"
      ],
      "execution_count": null,
      "outputs": []
    },
    {
      "cell_type": "code",
      "metadata": {
        "colab": {
          "base_uri": "https://localhost:8080/"
        },
        "id": "3Ypz62lrGP4W",
        "outputId": "e2b9bb6a-efde-40c0-f050-584ba6fbf25d"
      },
      "source": [
        "df"
      ],
      "execution_count": null,
      "outputs": [
        {
          "output_type": "execute_result",
          "data": {
            "text/plain": [
              "[              Challenge  ...             Submitted At\n",
              " 0        Crack the Hash  ...  2020-09-08, 12:02:05 PM\n",
              " 1    Guess The Password  ...  2020-09-17, 06:35:31 AM\n",
              " 2              G&P List  ...  2020-09-23, 02:22:27 PM\n",
              " 3              G&P List  ...  2020-09-23, 02:24:37 PM\n",
              " 4              G&P List  ...  2020-09-23, 02:30:02 PM\n",
              " ..                  ...  ...                      ...\n",
              " 112         Crime scene  ...  2021-05-21, 12:39:16 PM\n",
              " 113            Monaliza  ...  2021-05-21, 12:40:32 PM\n",
              " 114               bflag  ...  2021-05-21, 12:41:27 PM\n",
              " 115            Hashable  ...  2021-05-21, 12:42:26 PM\n",
              " 116        I love music  ...  2021-05-21, 12:43:10 PM\n",
              " \n",
              " [117 rows x 5 columns]]"
            ]
          },
          "metadata": {
            "tags": []
          },
          "execution_count": 4
        }
      ]
    },
    {
      "cell_type": "code",
      "metadata": {
        "id": "Le6d_losGSUe"
      },
      "source": [
        "df=df[0]"
      ],
      "execution_count": null,
      "outputs": []
    },
    {
      "cell_type": "code",
      "metadata": {
        "colab": {
          "base_uri": "https://localhost:8080/",
          "height": 419
        },
        "id": "HWfrWx2TGgt2",
        "outputId": "fad2e808-1647-40e1-a80d-142699badbdd"
      },
      "source": [
        "df.loc[:,['Challenge','Result']]"
      ],
      "execution_count": null,
      "outputs": [
        {
          "output_type": "execute_result",
          "data": {
            "text/html": [
              "<div>\n",
              "<style scoped>\n",
              "    .dataframe tbody tr th:only-of-type {\n",
              "        vertical-align: middle;\n",
              "    }\n",
              "\n",
              "    .dataframe tbody tr th {\n",
              "        vertical-align: top;\n",
              "    }\n",
              "\n",
              "    .dataframe thead th {\n",
              "        text-align: right;\n",
              "    }\n",
              "</style>\n",
              "<table border=\"1\" class=\"dataframe\">\n",
              "  <thead>\n",
              "    <tr style=\"text-align: right;\">\n",
              "      <th></th>\n",
              "      <th>Challenge</th>\n",
              "      <th>Result</th>\n",
              "    </tr>\n",
              "  </thead>\n",
              "  <tbody>\n",
              "    <tr>\n",
              "      <th>0</th>\n",
              "      <td>Crack the Hash</td>\n",
              "      <td>Correct</td>\n",
              "    </tr>\n",
              "    <tr>\n",
              "      <th>1</th>\n",
              "      <td>Guess The Password</td>\n",
              "      <td>Correct</td>\n",
              "    </tr>\n",
              "    <tr>\n",
              "      <th>2</th>\n",
              "      <td>G&amp;P List</td>\n",
              "      <td>Wrong</td>\n",
              "    </tr>\n",
              "    <tr>\n",
              "      <th>3</th>\n",
              "      <td>G&amp;P List</td>\n",
              "      <td>Wrong</td>\n",
              "    </tr>\n",
              "    <tr>\n",
              "      <th>4</th>\n",
              "      <td>G&amp;P List</td>\n",
              "      <td>Wrong</td>\n",
              "    </tr>\n",
              "    <tr>\n",
              "      <th>...</th>\n",
              "      <td>...</td>\n",
              "      <td>...</td>\n",
              "    </tr>\n",
              "    <tr>\n",
              "      <th>112</th>\n",
              "      <td>Crime scene</td>\n",
              "      <td>Correct</td>\n",
              "    </tr>\n",
              "    <tr>\n",
              "      <th>113</th>\n",
              "      <td>Monaliza</td>\n",
              "      <td>Correct</td>\n",
              "    </tr>\n",
              "    <tr>\n",
              "      <th>114</th>\n",
              "      <td>bflag</td>\n",
              "      <td>Correct</td>\n",
              "    </tr>\n",
              "    <tr>\n",
              "      <th>115</th>\n",
              "      <td>Hashable</td>\n",
              "      <td>Correct</td>\n",
              "    </tr>\n",
              "    <tr>\n",
              "      <th>116</th>\n",
              "      <td>I love music</td>\n",
              "      <td>Correct</td>\n",
              "    </tr>\n",
              "  </tbody>\n",
              "</table>\n",
              "<p>117 rows × 2 columns</p>\n",
              "</div>"
            ],
            "text/plain": [
              "              Challenge   Result\n",
              "0        Crack the Hash  Correct\n",
              "1    Guess The Password  Correct\n",
              "2              G&P List    Wrong\n",
              "3              G&P List    Wrong\n",
              "4              G&P List    Wrong\n",
              "..                  ...      ...\n",
              "112         Crime scene  Correct\n",
              "113            Monaliza  Correct\n",
              "114               bflag  Correct\n",
              "115            Hashable  Correct\n",
              "116        I love music  Correct\n",
              "\n",
              "[117 rows x 2 columns]"
            ]
          },
          "metadata": {
            "tags": []
          },
          "execution_count": 12
        }
      ]
    },
    {
      "cell_type": "code",
      "metadata": {
        "id": "4dbWP1rnHv1O"
      },
      "source": [
        "df=df[~df.duplicated(keep='last',subset='Challenge')]"
      ],
      "execution_count": null,
      "outputs": []
    },
    {
      "cell_type": "code",
      "metadata": {
        "id": "rGMFcCq9H0J8"
      },
      "source": [
        "e=df.to_csv('erick.csv')"
      ],
      "execution_count": null,
      "outputs": []
    },
    {
      "cell_type": "code",
      "metadata": {
        "colab": {
          "base_uri": "https://localhost:8080/",
          "height": 419
        },
        "id": "hjKLrjhdJegP",
        "outputId": "89fcfa4f-9051-45ae-df46-e2320b9dbb6e"
      },
      "source": [
        "df.loc[:,['Challenge','Answer']]"
      ],
      "execution_count": null,
      "outputs": [
        {
          "output_type": "execute_result",
          "data": {
            "text/html": [
              "<div>\n",
              "<style scoped>\n",
              "    .dataframe tbody tr th:only-of-type {\n",
              "        vertical-align: middle;\n",
              "    }\n",
              "\n",
              "    .dataframe tbody tr th {\n",
              "        vertical-align: top;\n",
              "    }\n",
              "\n",
              "    .dataframe thead th {\n",
              "        text-align: right;\n",
              "    }\n",
              "</style>\n",
              "<table border=\"1\" class=\"dataframe\">\n",
              "  <thead>\n",
              "    <tr style=\"text-align: right;\">\n",
              "      <th></th>\n",
              "      <th>Challenge</th>\n",
              "      <th>Answer</th>\n",
              "    </tr>\n",
              "  </thead>\n",
              "  <tbody>\n",
              "    <tr>\n",
              "      <th>0</th>\n",
              "      <td>Crack the Hash</td>\n",
              "      <td>Iamtheflag</td>\n",
              "    </tr>\n",
              "    <tr>\n",
              "      <th>1</th>\n",
              "      <td>Guess The Password</td>\n",
              "      <td>jrahyn+</td>\n",
              "    </tr>\n",
              "    <tr>\n",
              "      <th>7</th>\n",
              "      <td>Hackers Gathering</td>\n",
              "      <td>Defcon</td>\n",
              "    </tr>\n",
              "    <tr>\n",
              "      <th>8</th>\n",
              "      <td>Back to History</td>\n",
              "      <td>brain</td>\n",
              "    </tr>\n",
              "    <tr>\n",
              "      <th>13</th>\n",
              "      <td>Business Gathering</td>\n",
              "      <td>rsaConference</td>\n",
              "    </tr>\n",
              "    <tr>\n",
              "      <th>...</th>\n",
              "      <td>...</td>\n",
              "      <td>...</td>\n",
              "    </tr>\n",
              "    <tr>\n",
              "      <th>112</th>\n",
              "      <td>Crime scene</td>\n",
              "      <td>forensics</td>\n",
              "    </tr>\n",
              "    <tr>\n",
              "      <th>113</th>\n",
              "      <td>Monaliza</td>\n",
              "      <td>FLAG{p@!nting_i5_4wes0m3}</td>\n",
              "    </tr>\n",
              "    <tr>\n",
              "      <th>114</th>\n",
              "      <td>bflag</td>\n",
              "      <td>analyze_packet_for_fun</td>\n",
              "    </tr>\n",
              "    <tr>\n",
              "      <th>115</th>\n",
              "      <td>Hashable</td>\n",
              "      <td>18ab51f960bd149bcb2497b9998c752c</td>\n",
              "    </tr>\n",
              "    <tr>\n",
              "      <th>116</th>\n",
              "      <td>I love music</td>\n",
              "      <td>you_are_victorious!</td>\n",
              "    </tr>\n",
              "  </tbody>\n",
              "</table>\n",
              "<p>82 rows × 2 columns</p>\n",
              "</div>"
            ],
            "text/plain": [
              "              Challenge                            Answer\n",
              "0        Crack the Hash                        Iamtheflag\n",
              "1    Guess The Password                           jrahyn+\n",
              "7     Hackers Gathering                            Defcon\n",
              "8       Back to History                             brain\n",
              "13   Business Gathering                     rsaConference\n",
              "..                  ...                               ...\n",
              "112         Crime scene                         forensics\n",
              "113            Monaliza         FLAG{p@!nting_i5_4wes0m3}\n",
              "114               bflag            analyze_packet_for_fun\n",
              "115            Hashable  18ab51f960bd149bcb2497b9998c752c\n",
              "116        I love music               you_are_victorious!\n",
              "\n",
              "[82 rows x 2 columns]"
            ]
          },
          "metadata": {
            "tags": []
          },
          "execution_count": 23
        }
      ]
    }
  ]
}