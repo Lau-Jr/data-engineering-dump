{
  "nbformat": 4,
  "nbformat_minor": 0,
  "metadata": {
    "colab": {
      "name": "OOD in Python.ipynb",
      "provenance": [],
      "collapsed_sections": [],
      "authorship_tag": "ABX9TyPq5WqegUuY5auqp/AKCYa4",
      "include_colab_link": true
    },
    "kernelspec": {
      "name": "python3",
      "display_name": "Python 3"
    },
    "language_info": {
      "name": "python"
    }
  },
  "cells": [
    {
      "cell_type": "markdown",
      "metadata": {
        "id": "view-in-github",
        "colab_type": "text"
      },
      "source": [
        "<a href=\"https://colab.research.google.com/github/Lau-Jr/linear-regression/blob/main/OOD_in_Python.ipynb\" target=\"_parent\"><img src=\"https://colab.research.google.com/assets/colab-badge.svg\" alt=\"Open In Colab\"/></a>"
      ]
    },
    {
      "cell_type": "code",
      "execution_count": null,
      "metadata": {
        "id": "uutqkZ9PvcFt"
      },
      "outputs": [],
      "source": [
        "def get_age(born_year):\n",
        "  from datetime import date     ######here datetime is the module and date is the class\n",
        "  current_year = date.today().year      #####today().day .month\n",
        "  age = current_year - born_year\n",
        "  return f'your age is {age} year old'"
      ]
    },
    {
      "cell_type": "code",
      "source": [
        "get_age(1997)"
      ],
      "metadata": {
        "id": "hWDDKvMXw3sn"
      },
      "execution_count": null,
      "outputs": []
    },
    {
      "cell_type": "code",
      "source": [
        "def children_number(*children):\n",
        "  return len(children)\n"
      ],
      "metadata": {
        "id": "nM6S0FjU0adh"
      },
      "execution_count": null,
      "outputs": []
    },
    {
      "cell_type": "code",
      "source": [
        "children = ['lola','diana','france','yusra','zion','paulina','prince','edward']\n",
        "children_number(children)"
      ],
      "metadata": {
        "id": "Sc7vFKKR1qar"
      },
      "execution_count": null,
      "outputs": []
    },
    {
      "cell_type": "code",
      "source": [
        "def is_even(number):\n",
        "  \"\"\"this is ducumentaion of my function \"\"\"\n",
        "  if number % 2 == 0:\n",
        "    return True\n",
        "  return False"
      ],
      "metadata": {
        "id": "cGCTwlPR21es"
      },
      "execution_count": null,
      "outputs": []
    },
    {
      "cell_type": "code",
      "source": [
        "is_even.__doc__ ####remember that __main__ is the default module for all the functions in python\n",
        "                ##fuction is just an object just like any other objects"
      ],
      "metadata": {
        "id": "qMy3TN8-3KBt"
      },
      "execution_count": null,
      "outputs": []
    },
    {
      "cell_type": "code",
      "source": [
        "#####variable that references the original function\n",
        "my_fun = is_even\n",
        "my_fun(6)"
      ],
      "metadata": {
        "id": "55NoYwXr4dsE"
      },
      "execution_count": null,
      "outputs": []
    },
    {
      "cell_type": "code",
      "source": [
        "variable = 'this is global variale'\n",
        "def change_globlal_variable():\n",
        "  print(variable)\n",
        "  variable = 'new value'\n"
      ],
      "metadata": {
        "id": "Z5F-pUCn73nL"
      },
      "execution_count": null,
      "outputs": []
    },
    {
      "cell_type": "code",
      "source": [
        "change_globlal_variable()"
      ],
      "metadata": {
        "id": "6_2f1ux38MI0"
      },
      "execution_count": null,
      "outputs": []
    },
    {
      "cell_type": "code",
      "source": [
        ""
      ],
      "metadata": {
        "id": "NHcdtyR1LNy-"
      },
      "execution_count": null,
      "outputs": []
    }
  ]
}