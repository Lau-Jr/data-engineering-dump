{
  "nbformat": 4,
  "nbformat_minor": 0,
  "metadata": {
    "colab": {
      "name": "dataframe.ipynb",
      "provenance": [],
      "collapsed_sections": [],
      "authorship_tag": "ABX9TyPdYn/hEgbPSSitl+rVI/Uc",
      "include_colab_link": true
    },
    "kernelspec": {
      "name": "python3",
      "display_name": "Python 3"
    },
    "language_info": {
      "name": "python"
    }
  },
  "cells": [
    {
      "cell_type": "markdown",
      "metadata": {
        "id": "view-in-github",
        "colab_type": "text"
      },
      "source": [
        "<a href=\"https://colab.research.google.com/github/Lau-Jr/data-engineering-dump/blob/main/dataframe.ipynb\" target=\"_parent\"><img src=\"https://colab.research.google.com/assets/colab-badge.svg\" alt=\"Open In Colab\"/></a>"
      ]
    },
    {
      "cell_type": "code",
      "execution_count": null,
      "metadata": {
        "id": "KnwrLfIy-18T",
        "colab": {
          "base_uri": "https://localhost:8080/"
        },
        "outputId": "6c14df96-8a4f-46cc-e527-4bf04dd09107"
      },
      "outputs": [
        {
          "output_type": "stream",
          "name": "stdout",
          "text": [
            "Requirement already satisfied: pyspark in /usr/local/lib/python3.7/dist-packages (3.2.1)\n",
            "Requirement already satisfied: py4j==0.10.9.3 in /usr/local/lib/python3.7/dist-packages (from pyspark) (0.10.9.3)\n"
          ]
        }
      ],
      "source": [
        "!pip install pyspark"
      ]
    },
    {
      "cell_type": "code",
      "source": [
        "from pyspark import SparkContext\n",
        "from pyspark.sql import SparkSession"
      ],
      "metadata": {
        "id": "E9L30rBv_XLr"
      },
      "execution_count": null,
      "outputs": []
    },
    {
      "cell_type": "code",
      "source": [
        "sc = SparkContext()\n",
        "spark = SparkSession(sc)\n"
      ],
      "metadata": {
        "id": "Qup_zKpM_mdP"
      },
      "execution_count": null,
      "outputs": []
    },
    {
      "cell_type": "code",
      "source": [
        "\n",
        "data = [\n",
        "        ('laurent',25,'asha'),\n",
        "        ('diana',21,'asha'),\n",
        "        ('yusra',16,'asha'),\n",
        "        ('france',15,'ngara'),\n",
        "        ('zion',12,'upendo'),\n",
        "        ('pu',10,'upendo'),\n",
        "        ('prince',7,'upendo'),\n",
        "        ('gato',3,'upendo'),\n",
        "        ('edo',1,'upendo'),\n",
        "        ]\n",
        "names = ['name','age','mother']\n",
        "dataRDD = sc.parallelize(data)"
      ],
      "metadata": {
        "id": "b_mU2q8OAtaa"
      },
      "execution_count": null,
      "outputs": []
    },
    {
      "cell_type": "code",
      "source": [
        "watotoDF = dataRDD.toDF()\n",
        "new_watotoDF = spark.createDataFrame(data,schema = names)"
      ],
      "metadata": {
        "id": "eg9_ZqpjEjYo"
      },
      "execution_count": null,
      "outputs": []
    },
    {
      "cell_type": "code",
      "source": [
        "house_df = spark.read.csv('/content/sample_data/california_housing_train.csv',header = True,inferSchema =True)\n",
        "house_df.show(2)"
      ],
      "metadata": {
        "colab": {
          "base_uri": "https://localhost:8080/"
        },
        "id": "OwDuvO2OJrBB",
        "outputId": "021422f0-440b-427a-a645-e77ed85918ab"
      },
      "execution_count": null,
      "outputs": [
        {
          "output_type": "stream",
          "name": "stdout",
          "text": [
            "+---------+--------+------------------+-----------+--------------+----------+----------+-------------+------------------+\n",
            "|longitude|latitude|housing_median_age|total_rooms|total_bedrooms|population|households|median_income|median_house_value|\n",
            "+---------+--------+------------------+-----------+--------------+----------+----------+-------------+------------------+\n",
            "|  -114.31|   34.19|              15.0|     5612.0|        1283.0|    1015.0|     472.0|       1.4936|           66900.0|\n",
            "|  -114.47|    34.4|              19.0|     7650.0|        1901.0|    1129.0|     463.0|         1.82|           80100.0|\n",
            "+---------+--------+------------------+-----------+--------------+----------+----------+-------------+------------------+\n",
            "only showing top 2 rows\n",
            "\n"
          ]
        }
      ]
    },
    {
      "cell_type": "code",
      "source": [
        "ansombe_js = spark.read.json('/content/sample_data/anscombe.json')\n",
        "ansombe_js.show(2)"
      ],
      "metadata": {
        "colab": {
          "base_uri": "https://localhost:8080/"
        },
        "id": "y58c-HuhKEp3",
        "outputId": "d3697130-afbb-4cef-a519-fca34e2dc91c"
      },
      "execution_count": null,
      "outputs": [
        {
          "output_type": "stream",
          "name": "stdout",
          "text": [
            "+------+----+----+---------------+\n",
            "|Series|   X|   Y|_corrupt_record|\n",
            "+------+----+----+---------------+\n",
            "|  null|null|null|              [|\n",
            "|     I|10.0|8.04|           null|\n",
            "+------+----+----+---------------+\n",
            "only showing top 2 rows\n",
            "\n"
          ]
        }
      ]
    },
    {
      "cell_type": "code",
      "source": [
        "house_df.select(['total_rooms','total_bedrooms']).show(2)"
      ],
      "metadata": {
        "colab": {
          "base_uri": "https://localhost:8080/"
        },
        "id": "bd7GYAoBLKpP",
        "outputId": "ddb032e4-daf4-4653-a11b-4c8bd0f7f42f"
      },
      "execution_count": null,
      "outputs": [
        {
          "output_type": "stream",
          "name": "stdout",
          "text": [
            "+-----------+--------------+\n",
            "|total_rooms|total_bedrooms|\n",
            "+-----------+--------------+\n",
            "|     5612.0|        1283.0|\n",
            "|     7650.0|        1901.0|\n",
            "+-----------+--------------+\n",
            "only showing top 2 rows\n",
            "\n"
          ]
        }
      ]
    },
    {
      "cell_type": "code",
      "source": [
        "house_df.filter(house_df.total_rooms > 5000).show(3)"
      ],
      "metadata": {
        "colab": {
          "base_uri": "https://localhost:8080/"
        },
        "id": "i2MAbihUL2WV",
        "outputId": "fa49ba8e-4533-44a0-b1e7-77a3ac4fd05a"
      },
      "execution_count": null,
      "outputs": [
        {
          "output_type": "stream",
          "name": "stdout",
          "text": [
            "+---------+--------+------------------+-----------+--------------+----------+----------+-------------+------------------+\n",
            "|longitude|latitude|housing_median_age|total_rooms|total_bedrooms|population|households|median_income|median_house_value|\n",
            "+---------+--------+------------------+-----------+--------------+----------+----------+-------------+------------------+\n",
            "|  -114.31|   34.19|              15.0|     5612.0|        1283.0|    1015.0|     472.0|       1.4936|           66900.0|\n",
            "|  -114.47|    34.4|              19.0|     7650.0|        1901.0|    1129.0|     463.0|         1.82|           80100.0|\n",
            "|  -116.06|   34.15|              15.0|    10377.0|        2331.0|    4507.0|    1807.0|       2.2466|           66800.0|\n",
            "+---------+--------+------------------+-----------+--------------+----------+----------+-------------+------------------+\n",
            "only showing top 3 rows\n",
            "\n"
          ]
        }
      ]
    },
    {
      "cell_type": "code",
      "source": [
        "house_df.groupBy('latitude').count().orderBy('count',ascending = False).count()"
      ],
      "metadata": {
        "colab": {
          "base_uri": "https://localhost:8080/"
        },
        "id": "GOTOusfnMd1k",
        "outputId": "52932c7a-52dc-4958-f4e9-92ee2a914020"
      },
      "execution_count": null,
      "outputs": [
        {
          "output_type": "execute_result",
          "data": {
            "text/plain": [
              "840"
            ]
          },
          "metadata": {},
          "execution_count": 12
        }
      ]
    },
    {
      "cell_type": "code",
      "source": [
        "house_df.groupBy('latitude').count().dropDuplicates().orderBy('count',ascending = False).count()"
      ],
      "metadata": {
        "colab": {
          "base_uri": "https://localhost:8080/"
        },
        "id": "TlgtRDGkQuPx",
        "outputId": "0c48dd61-0ec0-40ef-cdcb-a6d4d2eee861"
      },
      "execution_count": null,
      "outputs": [
        {
          "output_type": "execute_result",
          "data": {
            "text/plain": [
              "840"
            ]
          },
          "metadata": {},
          "execution_count": 13
        }
      ]
    },
    {
      "cell_type": "code",
      "source": [
        "watotoDF = watotoDF.withColumnRenamed(\"_3\",'mother')"
      ],
      "metadata": {
        "id": "8Y2ll466Mm8V"
      },
      "execution_count": null,
      "outputs": []
    },
    {
      "cell_type": "code",
      "source": [
        "watotoDF.columns"
      ],
      "metadata": {
        "colab": {
          "base_uri": "https://localhost:8080/"
        },
        "id": "LlManG_sSp3l",
        "outputId": "abe1a68e-b5dd-4c0a-9ef5-aabcd9367dc9"
      },
      "execution_count": null,
      "outputs": [
        {
          "output_type": "execute_result",
          "data": {
            "text/plain": [
              "['_1', '_2', 'mother']"
            ]
          },
          "metadata": {},
          "execution_count": 15
        }
      ]
    },
    {
      "cell_type": "code",
      "source": [
        "watotoDF.createOrReplaceTempView('kids')"
      ],
      "metadata": {
        "id": "WNuDBvBUZvRK"
      },
      "execution_count": null,
      "outputs": []
    },
    {
      "cell_type": "code",
      "source": [
        "spark.sql('select * from kids where mother = \"asha\" ').show()"
      ],
      "metadata": {
        "colab": {
          "base_uri": "https://localhost:8080/"
        },
        "id": "1Q1SXACxaC0Z",
        "outputId": "d1f00190-a913-491c-b85b-b5c97bded807"
      },
      "execution_count": null,
      "outputs": [
        {
          "output_type": "stream",
          "name": "stdout",
          "text": [
            "+-------+---+------+\n",
            "|     _1| _2|mother|\n",
            "+-------+---+------+\n",
            "|laurent| 25|  asha|\n",
            "|  diana| 21|  asha|\n",
            "|  yusra| 16|  asha|\n",
            "+-------+---+------+\n",
            "\n"
          ]
        }
      ]
    },
    {
      "cell_type": "code",
      "source": [
        "watotoDF.collect()[0].asDict()['mother']"
      ],
      "metadata": {
        "colab": {
          "base_uri": "https://localhost:8080/",
          "height": 35
        },
        "id": "kr8CjqCZuM0e",
        "outputId": "ab480c3d-52b6-42f6-d00c-5de969d9c1b8"
      },
      "execution_count": null,
      "outputs": [
        {
          "output_type": "execute_result",
          "data": {
            "text/plain": [
              "'asha'"
            ],
            "application/vnd.google.colaboratory.intrinsic+json": {
              "type": "string"
            }
          },
          "metadata": {},
          "execution_count": 18
        }
      ]
    },
    {
      "cell_type": "code",
      "source": [
        "watotoDF.groupBy('Mother').count().orderBy('count',ascending = False).show()"
      ],
      "metadata": {
        "colab": {
          "base_uri": "https://localhost:8080/"
        },
        "id": "NE5Tkv9q7gEx",
        "outputId": "7ae541de-5d28-4374-9950-489eec54c8c4"
      },
      "execution_count": null,
      "outputs": [
        {
          "output_type": "stream",
          "name": "stdout",
          "text": [
            "+------+-----+\n",
            "|Mother|count|\n",
            "+------+-----+\n",
            "|upendo|    5|\n",
            "|  asha|    3|\n",
            "| ngara|    1|\n",
            "+------+-----+\n",
            "\n"
          ]
        }
      ]
    },
    {
      "cell_type": "code",
      "source": [
        ""
      ],
      "metadata": {
        "id": "vh4EmkeeFcmQ"
      },
      "execution_count": null,
      "outputs": []
    },
    {
      "cell_type": "markdown",
      "source": [
        "###RENAMING COLUMNS"
      ],
      "metadata": {
        "id": "1_FeBaI1Hh_b"
      }
    },
    {
      "cell_type": "code",
      "source": [
        "# Average duration of Delta flights\n",
        "flights.filter(flights.carrier == \"DL\").filter(flights.origin == \"SEA\").groupBy().avg(\"air_time\").show()\n",
        "\n",
        "# Total hours in the air\n",
        "flights.withColumn(\"duration_hrs\", flights.air_time/60).groupBy().sum(\"duration_hrs\").show()"
      ],
      "metadata": {
        "id": "iI483sjjHmPq"
      },
      "execution_count": null,
      "outputs": []
    },
    {
      "cell_type": "markdown",
      "source": [
        "### from pyspark.sql.functions import stddev"
      ],
      "metadata": {
        "id": "UnkBQFASXcpE"
      }
    },
    {
      "cell_type": "code",
      "source": [
        "# Import pyspark.sql.functions as F\n",
        "from pyspark.sql.functions import stddev as std\n",
        "\n",
        "# Group by month and dest\n",
        "by_month_dest = flights.groupBy('month','dest')\n",
        "\n",
        "# Average departure delay by month and destination\n",
        "by_month_dest.avg('dep_delay').show()\n",
        "\n",
        "# Standard deviation of departure delay\n",
        "by_month_dest.agg(std('dep_delay')).show()"
      ],
      "metadata": {
        "id": "zi7o-Yn9Xlt3"
      },
      "execution_count": null,
      "outputs": []
    },
    {
      "cell_type": "markdown",
      "source": [
        "##joins in pyspark"
      ],
      "metadata": {
        "id": "kkmDx78HyegY"
      }
    },
    {
      "cell_type": "code",
      "source": [
        "# Examine the data\n",
        "print(airports.show())\n",
        "\n",
        "# Rename the faa column\n",
        "airports = airports.withColumnRenamed('faa','dest')\n",
        "\n",
        "# Join the DataFrames\n",
        "flights_with_airports = flights.join(airports,on='dest',how='leftouter')\n",
        "\n",
        "# Examine the new DataFrame\n",
        "print(flights_with_airports.show())"
      ],
      "metadata": {
        "id": "WYSYAHL9XsCn"
      },
      "execution_count": null,
      "outputs": []
    },
    {
      "cell_type": "markdown",
      "source": [
        "##type conversion"
      ],
      "metadata": {
        "id": "YNXCC3xY1F4i"
      }
    },
    {
      "cell_type": "code",
      "source": [
        "# Cast the columns to integers\n",
        "model_data = model_data.withColumn(\"arr_delay\", model_data.arr_delay.cast('integer'))\n",
        "model_data = model_data.withColumn(\"air_time\", model_data.air_time.cast('integer'))\n",
        "model_data = model_data.withColumn(\"month\", model_data.month.cast('integer'))\n",
        "model_data = model_data.withColumn(\"plane_year\", model_data.plane_year.cast('integer'))"
      ],
      "metadata": {
        "id": "fi6qsvdNyhLH"
      },
      "execution_count": null,
      "outputs": []
    },
    {
      "cell_type": "markdown",
      "source": [
        "##selecting"
      ],
      "metadata": {
        "id": "WEcf04q545Je"
      }
    },
    {
      "cell_type": "code",
      "source": [
        "# Define avg_speed\n",
        "avg_speed = (flights.distance/(flights.air_time/60)).alias(\"avg_speed\")\n",
        "\n",
        "# Select the correct columns\n",
        "speed1 = flights.select(\"origin\", \"dest\", \"tailnum\", avg_speed)\n",
        "\n",
        "# Create the same table using a SQL expression\n",
        "speed2 = flights.selectExpr(\"origin\", \"dest\", \"tailnum\", \"distance/(air_time/60) as avg_speed\")"
      ],
      "metadata": {
        "id": "q5kqEN4z47Gg"
      },
      "execution_count": null,
      "outputs": []
    }
  ]
}