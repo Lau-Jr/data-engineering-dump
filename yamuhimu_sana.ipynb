{
  "nbformat": 4,
  "nbformat_minor": 0,
  "metadata": {
    "colab": {
      "name": "yamuhimu sana.ipynb",
      "provenance": [],
      "collapsed_sections": [],
      "authorship_tag": "ABX9TyNxUC8zNnPA7cHVyYKf0LGS",
      "include_colab_link": true
    },
    "kernelspec": {
      "name": "python3",
      "display_name": "Python 3"
    },
    "language_info": {
      "name": "python"
    }
  },
  "cells": [
    {
      "cell_type": "markdown",
      "metadata": {
        "id": "view-in-github",
        "colab_type": "text"
      },
      "source": [
        "<a href=\"https://colab.research.google.com/github/Lau-Jr/linear-regression/blob/main/yamuhimu_sana.ipynb\" target=\"_parent\"><img src=\"https://colab.research.google.com/assets/colab-badge.svg\" alt=\"Open In Colab\"/></a>"
      ]
    },
    {
      "cell_type": "code",
      "source": [
        "import pandas as pd\n",
        "import matplotlib.pyplot as plt\n",
        "\n"
      ],
      "metadata": {
        "id": "pMVurTHtfOsX"
      },
      "execution_count": null,
      "outputs": []
    },
    {
      "cell_type": "code",
      "source": [
        "house_data.head()"
      ],
      "metadata": {
        "colab": {
          "base_uri": "https://localhost:8080/",
          "height": 206
        },
        "id": "bpxVKCZ4FzdU",
        "outputId": "4e6e057e-b1e4-48bc-fec0-2734c6a959e5"
      },
      "execution_count": null,
      "outputs": [
        {
          "output_type": "execute_result",
          "data": {
            "text/html": [
              "\n",
              "  <div id=\"df-b2bb5376-34ea-4236-9829-95938085b621\">\n",
              "    <div class=\"colab-df-container\">\n",
              "      <div>\n",
              "<style scoped>\n",
              "    .dataframe tbody tr th:only-of-type {\n",
              "        vertical-align: middle;\n",
              "    }\n",
              "\n",
              "    .dataframe tbody tr th {\n",
              "        vertical-align: top;\n",
              "    }\n",
              "\n",
              "    .dataframe thead th {\n",
              "        text-align: right;\n",
              "    }\n",
              "</style>\n",
              "<table border=\"1\" class=\"dataframe\">\n",
              "  <thead>\n",
              "    <tr style=\"text-align: right;\">\n",
              "      <th></th>\n",
              "      <th>longitude</th>\n",
              "      <th>latitude</th>\n",
              "      <th>housing_median_age</th>\n",
              "      <th>total_rooms</th>\n",
              "      <th>total_bedrooms</th>\n",
              "      <th>population</th>\n",
              "      <th>households</th>\n",
              "      <th>median_income</th>\n",
              "      <th>median_house_value</th>\n",
              "    </tr>\n",
              "  </thead>\n",
              "  <tbody>\n",
              "    <tr>\n",
              "      <th>0</th>\n",
              "      <td>-122.05</td>\n",
              "      <td>37.37</td>\n",
              "      <td>27.0</td>\n",
              "      <td>3885.0</td>\n",
              "      <td>661.0</td>\n",
              "      <td>1537.0</td>\n",
              "      <td>606.0</td>\n",
              "      <td>6.6085</td>\n",
              "      <td>344700.0</td>\n",
              "    </tr>\n",
              "    <tr>\n",
              "      <th>1</th>\n",
              "      <td>-118.30</td>\n",
              "      <td>34.26</td>\n",
              "      <td>43.0</td>\n",
              "      <td>1510.0</td>\n",
              "      <td>310.0</td>\n",
              "      <td>809.0</td>\n",
              "      <td>277.0</td>\n",
              "      <td>3.5990</td>\n",
              "      <td>176500.0</td>\n",
              "    </tr>\n",
              "    <tr>\n",
              "      <th>2</th>\n",
              "      <td>-117.81</td>\n",
              "      <td>33.78</td>\n",
              "      <td>27.0</td>\n",
              "      <td>3589.0</td>\n",
              "      <td>507.0</td>\n",
              "      <td>1484.0</td>\n",
              "      <td>495.0</td>\n",
              "      <td>5.7934</td>\n",
              "      <td>270500.0</td>\n",
              "    </tr>\n",
              "    <tr>\n",
              "      <th>3</th>\n",
              "      <td>-118.36</td>\n",
              "      <td>33.82</td>\n",
              "      <td>28.0</td>\n",
              "      <td>67.0</td>\n",
              "      <td>15.0</td>\n",
              "      <td>49.0</td>\n",
              "      <td>11.0</td>\n",
              "      <td>6.1359</td>\n",
              "      <td>330000.0</td>\n",
              "    </tr>\n",
              "    <tr>\n",
              "      <th>4</th>\n",
              "      <td>-119.67</td>\n",
              "      <td>36.33</td>\n",
              "      <td>19.0</td>\n",
              "      <td>1241.0</td>\n",
              "      <td>244.0</td>\n",
              "      <td>850.0</td>\n",
              "      <td>237.0</td>\n",
              "      <td>2.9375</td>\n",
              "      <td>81700.0</td>\n",
              "    </tr>\n",
              "  </tbody>\n",
              "</table>\n",
              "</div>\n",
              "      <button class=\"colab-df-convert\" onclick=\"convertToInteractive('df-b2bb5376-34ea-4236-9829-95938085b621')\"\n",
              "              title=\"Convert this dataframe to an interactive table.\"\n",
              "              style=\"display:none;\">\n",
              "        \n",
              "  <svg xmlns=\"http://www.w3.org/2000/svg\" height=\"24px\"viewBox=\"0 0 24 24\"\n",
              "       width=\"24px\">\n",
              "    <path d=\"M0 0h24v24H0V0z\" fill=\"none\"/>\n",
              "    <path d=\"M18.56 5.44l.94 2.06.94-2.06 2.06-.94-2.06-.94-.94-2.06-.94 2.06-2.06.94zm-11 1L8.5 8.5l.94-2.06 2.06-.94-2.06-.94L8.5 2.5l-.94 2.06-2.06.94zm10 10l.94 2.06.94-2.06 2.06-.94-2.06-.94-.94-2.06-.94 2.06-2.06.94z\"/><path d=\"M17.41 7.96l-1.37-1.37c-.4-.4-.92-.59-1.43-.59-.52 0-1.04.2-1.43.59L10.3 9.45l-7.72 7.72c-.78.78-.78 2.05 0 2.83L4 21.41c.39.39.9.59 1.41.59.51 0 1.02-.2 1.41-.59l7.78-7.78 2.81-2.81c.8-.78.8-2.07 0-2.86zM5.41 20L4 18.59l7.72-7.72 1.47 1.35L5.41 20z\"/>\n",
              "  </svg>\n",
              "      </button>\n",
              "      \n",
              "  <style>\n",
              "    .colab-df-container {\n",
              "      display:flex;\n",
              "      flex-wrap:wrap;\n",
              "      gap: 12px;\n",
              "    }\n",
              "\n",
              "    .colab-df-convert {\n",
              "      background-color: #E8F0FE;\n",
              "      border: none;\n",
              "      border-radius: 50%;\n",
              "      cursor: pointer;\n",
              "      display: none;\n",
              "      fill: #1967D2;\n",
              "      height: 32px;\n",
              "      padding: 0 0 0 0;\n",
              "      width: 32px;\n",
              "    }\n",
              "\n",
              "    .colab-df-convert:hover {\n",
              "      background-color: #E2EBFA;\n",
              "      box-shadow: 0px 1px 2px rgba(60, 64, 67, 0.3), 0px 1px 3px 1px rgba(60, 64, 67, 0.15);\n",
              "      fill: #174EA6;\n",
              "    }\n",
              "\n",
              "    [theme=dark] .colab-df-convert {\n",
              "      background-color: #3B4455;\n",
              "      fill: #D2E3FC;\n",
              "    }\n",
              "\n",
              "    [theme=dark] .colab-df-convert:hover {\n",
              "      background-color: #434B5C;\n",
              "      box-shadow: 0px 1px 3px 1px rgba(0, 0, 0, 0.15);\n",
              "      filter: drop-shadow(0px 1px 2px rgba(0, 0, 0, 0.3));\n",
              "      fill: #FFFFFF;\n",
              "    }\n",
              "  </style>\n",
              "\n",
              "      <script>\n",
              "        const buttonEl =\n",
              "          document.querySelector('#df-b2bb5376-34ea-4236-9829-95938085b621 button.colab-df-convert');\n",
              "        buttonEl.style.display =\n",
              "          google.colab.kernel.accessAllowed ? 'block' : 'none';\n",
              "\n",
              "        async function convertToInteractive(key) {\n",
              "          const element = document.querySelector('#df-b2bb5376-34ea-4236-9829-95938085b621');\n",
              "          const dataTable =\n",
              "            await google.colab.kernel.invokeFunction('convertToInteractive',\n",
              "                                                     [key], {});\n",
              "          if (!dataTable) return;\n",
              "\n",
              "          const docLinkHtml = 'Like what you see? Visit the ' +\n",
              "            '<a target=\"_blank\" href=https://colab.research.google.com/notebooks/data_table.ipynb>data table notebook</a>'\n",
              "            + ' to learn more about interactive tables.';\n",
              "          element.innerHTML = '';\n",
              "          dataTable['output_type'] = 'display_data';\n",
              "          await google.colab.output.renderOutput(dataTable, element);\n",
              "          const docLink = document.createElement('div');\n",
              "          docLink.innerHTML = docLinkHtml;\n",
              "          element.appendChild(docLink);\n",
              "        }\n",
              "      </script>\n",
              "    </div>\n",
              "  </div>\n",
              "  "
            ],
            "text/plain": [
              "   longitude  latitude  ...  median_income  median_house_value\n",
              "0    -122.05     37.37  ...         6.6085            344700.0\n",
              "1    -118.30     34.26  ...         3.5990            176500.0\n",
              "2    -117.81     33.78  ...         5.7934            270500.0\n",
              "3    -118.36     33.82  ...         6.1359            330000.0\n",
              "4    -119.67     36.33  ...         2.9375             81700.0\n",
              "\n",
              "[5 rows x 9 columns]"
            ]
          },
          "metadata": {},
          "execution_count": 5
        }
      ]
    },
    {
      "cell_type": "code",
      "source": [
        "house_data = pd.read_csv(\"/content/sample_data/california_housing_test.csv\")"
      ],
      "metadata": {
        "id": "gImSii8_Fo28"
      },
      "execution_count": null,
      "outputs": []
    },
    {
      "cell_type": "code",
      "source": [
        "median_age= house_data['housing_median_age']\n",
        "\n",
        "len(median_age.unique())"
      ],
      "metadata": {
        "colab": {
          "base_uri": "https://localhost:8080/"
        },
        "id": "MFL2ib3sGAnI",
        "outputId": "3666390b-1b58-4cb8-e1ec-453cf5a7b939"
      },
      "execution_count": null,
      "outputs": [
        {
          "output_type": "execute_result",
          "data": {
            "text/plain": [
              "52"
            ]
          },
          "metadata": {},
          "execution_count": 13
        }
      ]
    },
    {
      "cell_type": "code",
      "source": [
        "#-------------------numpy arrays-----------------\n",
        "import numpy as np\n",
        "\n",
        "# First 20 countries with employment data\n",
        "countries = np.array([\n",
        "    'Afghanistan', 'Albania', 'Algeria', 'Angola', 'Argentina',\n",
        "    'Armenia', 'Australia', 'Austria', 'Azerbaijan', 'Bahamas',\n",
        "    'Bahrain', 'Bangladesh', 'Barbados', 'Belarus', 'Belgium',\n",
        "    'Belize', 'Benin', 'Bhutan', 'Bolivia',\n",
        "    'Bosnia and Herzegovina'\n",
        "])\n",
        "\n",
        "# Employment data in 2007 for those 20 countries\n",
        "employment = np.array([\n",
        "    55.70000076,  51.40000153,  50.5       ,  75.69999695,\n",
        "    58.40000153,  40.09999847,  61.5       ,  57.09999847,\n",
        "    60.90000153,  66.59999847,  60.40000153,  68.09999847,\n",
        "    66.90000153,  53.40000153,  48.59999847,  56.79999924,\n",
        "    71.59999847,  58.40000153,  70.40000153,  41.20000076\n",
        "])\n"
      ],
      "metadata": {
        "id": "htVXBvwmb4JK"
      },
      "execution_count": null,
      "outputs": []
    },
    {
      "cell_type": "code",
      "source": [
        "# maximum  number of employment\n",
        "max_emp = employment.max()\n",
        "min_emp = employment.min()\n",
        "sumu = employment.sum()\n",
        "count = len(employment)\n",
        "average = employment.mean()\n",
        "standard_dev = employment.std()"
      ],
      "metadata": {
        "id": "pfgcacWAcCdh"
      },
      "execution_count": null,
      "outputs": []
    },
    {
      "cell_type": "code",
      "source": [
        "max = employment.argmax()\n",
        "max"
      ],
      "metadata": {
        "colab": {
          "base_uri": "https://localhost:8080/"
        },
        "id": "eJAPPP37c5og",
        "outputId": "cbf8e016-0dfa-4ab3-e68f-0c2c87903f23"
      },
      "execution_count": null,
      "outputs": [
        {
          "output_type": "execute_result",
          "data": {
            "text/plain": [
              "3"
            ]
          },
          "metadata": {},
          "execution_count": 29
        }
      ]
    },
    {
      "cell_type": "code",
      "source": [
        "age = np.array([3,4,5,6])\n",
        "dev = np.array([34,562,467,5])"
      ],
      "metadata": {
        "id": "A1xaC5L9hc_A"
      },
      "execution_count": null,
      "outputs": []
    },
    {
      "cell_type": "code",
      "source": [
        "age + dev"
      ],
      "metadata": {
        "colab": {
          "base_uri": "https://localhost:8080/"
        },
        "id": "JeGkYhU6hn6t",
        "outputId": "1c8ea37b-56b3-476f-b398-8fa136cf8132"
      },
      "execution_count": null,
      "outputs": [
        {
          "output_type": "execute_result",
          "data": {
            "text/plain": [
              "array([ 37, 566, 472,  11])"
            ]
          },
          "metadata": {},
          "execution_count": 46
        }
      ]
    },
    {
      "cell_type": "code",
      "source": [
        "age + 4"
      ],
      "metadata": {
        "colab": {
          "base_uri": "https://localhost:8080/"
        },
        "id": "3mjOU7pSiGuy",
        "outputId": "b5979f30-4747-4b4c-e232-ce84e1273074"
      },
      "execution_count": null,
      "outputs": [
        {
          "output_type": "execute_result",
          "data": {
            "text/plain": [
              "array([ 7,  8,  9, 10])"
            ]
          },
          "metadata": {},
          "execution_count": 47
        }
      ]
    },
    {
      "cell_type": "code",
      "source": [
        "age1 = [4,3]\n"
      ],
      "metadata": {
        "id": "Y6qd4c5Giqgw"
      },
      "execution_count": null,
      "outputs": []
    },
    {
      "cell_type": "code",
      "source": [
        "age1 * 2"
      ],
      "metadata": {
        "colab": {
          "base_uri": "https://localhost:8080/"
        },
        "id": "LhpwXoUliuU2",
        "outputId": "b047799f-2269-496c-f88c-2dc95235ef8a"
      },
      "execution_count": null,
      "outputs": [
        {
          "output_type": "execute_result",
          "data": {
            "text/plain": [
              "[4, 3, 4, 3]"
            ]
          },
          "metadata": {},
          "execution_count": 50
        }
      ]
    },
    {
      "cell_type": "code",
      "source": [
        "'loka' * 3"
      ],
      "metadata": {
        "colab": {
          "base_uri": "https://localhost:8080/",
          "height": 35
        },
        "id": "48CZ6ISUi30e",
        "outputId": "c796a0de-594b-4e7f-b1cb-b758d8786604"
      },
      "execution_count": null,
      "outputs": [
        {
          "output_type": "execute_result",
          "data": {
            "application/vnd.google.colaboratory.intrinsic+json": {
              "type": "string"
            },
            "text/plain": [
              "'lokalokaloka'"
            ]
          },
          "metadata": {},
          "execution_count": 51
        }
      ]
    },
    {
      "cell_type": "code",
      "source": [
        "# index arrays and list comprehesion\n",
        "import numpy as np\n",
        "evens = np.array( [x for x in range(10) if x % 2 == 0 ] )\n",
        "evens[evens > 5]"
      ],
      "metadata": {
        "colab": {
          "base_uri": "https://localhost:8080/"
        },
        "id": "5UvooK5iXdPo",
        "outputId": "4e018959-4940-4834-d19e-baeff0f53032"
      },
      "execution_count": null,
      "outputs": [
        {
          "output_type": "execute_result",
          "data": {
            "text/plain": [
              "array([6, 8])"
            ]
          },
          "metadata": {},
          "execution_count": 9
        }
      ]
    },
    {
      "cell_type": "code",
      "source": [
        "# index arrays and list comprehesion\n",
        "even = [x for x in range(10) if x % 2 == 0 ] \n"
      ],
      "metadata": {
        "id": "HioL09CQagUb"
      },
      "execution_count": null,
      "outputs": []
    },
    {
      "cell_type": "code",
      "source": [
        "b = even\n",
        "even  += [9]\n",
        "b"
      ],
      "metadata": {
        "colab": {
          "base_uri": "https://localhost:8080/"
        },
        "id": "YS9kT3HzZ3J8",
        "outputId": "bf4c9adc-bdc2-454b-bf49-833a1a9ed295"
      },
      "execution_count": null,
      "outputs": [
        {
          "output_type": "execute_result",
          "data": {
            "text/plain": [
              "[0, 2, 4, 6, 8, 9]"
            ]
          },
          "metadata": {},
          "execution_count": 15
        }
      ]
    },
    {
      "cell_type": "code",
      "source": [
        "a = [2,3,4,5,5,5,4]\n",
        "b = a[:3]\n",
        "b[0] = 100\n",
        "a"
      ],
      "metadata": {
        "colab": {
          "base_uri": "https://localhost:8080/"
        },
        "id": "a7yH3Ll9bpYH",
        "outputId": "289cf0ae-0b4f-45be-9056-27ce8eb7119e"
      },
      "execution_count": null,
      "outputs": [
        {
          "output_type": "execute_result",
          "data": {
            "text/plain": [
              "[2, 3, 4, 5, 5, 5, 4]"
            ]
          },
          "metadata": {},
          "execution_count": 19
        }
      ]
    },
    {
      "cell_type": "code",
      "source": [
        "a = np.array([2,3,4,5,5,5,4])\n",
        "b = a[:3]\n",
        "b[0] = 100\n",
        "a"
      ],
      "metadata": {
        "colab": {
          "base_uri": "https://localhost:8080/"
        },
        "id": "30wRObe8b8Cj",
        "outputId": "a1a52591-ea79-4136-dd5e-8de108568dbf"
      },
      "execution_count": null,
      "outputs": [
        {
          "output_type": "execute_result",
          "data": {
            "text/plain": [
              "array([100,   3,   4,   5,   5,   5,   4])"
            ]
          },
          "metadata": {},
          "execution_count": 20
        }
      ]
    },
    {
      "cell_type": "code",
      "source": [
        "life_expectancy_values = [74.7,  75. ,  83.4,  57.6,  74.6,  75.4,  72.3,  81.5,  80.2,\n",
        "                          70.3,  72.1,  76.4,  68.1,  75.2,  69.8,  79.4,  70.8,  62.7,\n",
        "                          67.3,  70.6]\n",
        "\n",
        "gdp_values = [ 1681.61390973,   2155.48523109,  21495.80508273,    562.98768478,\n",
        "              13495.1274663 ,   9388.68852258,   1424.19056199,  24765.54890176,\n",
        "              27036.48733192,   1945.63754911,  21721.61840978,  13373.21993972,\n",
        "                483.97086804,   9783.98417323,   2253.46411147,  25034.66692293,\n",
        "               3680.91642923,    366.04496652,   1175.92638695,   1132.21387981]"
      ],
      "metadata": {
        "id": "ZCW9OCsIfUaH"
      },
      "execution_count": null,
      "outputs": []
    },
    {
      "cell_type": "code",
      "source": [
        "le = pd.Series(life_expectancy_values)\n",
        "gdp = pd.Series(gdp_values)"
      ],
      "metadata": {
        "id": "PfJOUVB7ffzu"
      },
      "execution_count": null,
      "outputs": []
    },
    {
      "cell_type": "code",
      "source": [
        "mean_gdp = gdp.mean()\n",
        "mean_le = le.mean()\n",
        "\n"
      ],
      "metadata": {
        "id": "G9isBvH0frud"
      },
      "execution_count": null,
      "outputs": []
    },
    {
      "cell_type": "code",
      "source": [
        "def my_fun(a, b):\n",
        "  a = np.array(a)\n",
        "  b = np.array(b)\n",
        "  u = a > mean_gdp\n",
        "  m = b > mean_le\n",
        "  c = u & m\n",
        "  s = len(c[c])\n",
        "  n =len(a) - s\n",
        "  return (n,s)\n"
      ],
      "metadata": {
        "id": "TCqfm_M5gHMF"
      },
      "execution_count": null,
      "outputs": []
    },
    {
      "cell_type": "code",
      "source": [
        "my_fun(gdp_values,life_expectancy_values)"
      ],
      "metadata": {
        "colab": {
          "base_uri": "https://localhost:8080/"
        },
        "id": "i_41sLrPh0FC",
        "outputId": "22f02e4c-375c-4b01-b174-d2be084a675d"
      },
      "execution_count": null,
      "outputs": [
        {
          "output_type": "execute_result",
          "data": {
            "text/plain": [
              "(12, 8)"
            ]
          },
          "metadata": {},
          "execution_count": 42
        }
      ]
    },
    {
      "cell_type": "code",
      "source": [
        "u = np.array([12,3,4,5,6,4,4,4,3])\n",
        "u.sum()"
      ],
      "metadata": {
        "colab": {
          "base_uri": "https://localhost:8080/"
        },
        "id": "k9s42K3eiPVR",
        "outputId": "c46df758-e15a-40cb-b163-7a81d5c712f8"
      },
      "execution_count": null,
      "outputs": [
        {
          "output_type": "execute_result",
          "data": {
            "text/plain": [
              "45"
            ]
          },
          "metadata": {},
          "execution_count": 48
        }
      ]
    },
    {
      "cell_type": "code",
      "source": [
        "s= pd.Series(life_expectancy_values)\n",
        "s[3]"
      ],
      "metadata": {
        "colab": {
          "base_uri": "https://localhost:8080/"
        },
        "id": "0iI5XFeDysM7",
        "outputId": "fc6ff64c-a5dd-45c9-f2d2-9c649eb24735"
      },
      "execution_count": null,
      "outputs": [
        {
          "output_type": "execute_result",
          "data": {
            "text/plain": [
              "57.6"
            ]
          },
          "metadata": {},
          "execution_count": 54
        }
      ]
    },
    {
      "cell_type": "code",
      "source": [
        "# plotting data\n",
        "plt.hist(np.array(life_expectancy_values))\n"
      ],
      "metadata": {
        "colab": {
          "base_uri": "https://localhost:8080/",
          "height": 334
        },
        "id": "QQrhC0paWVME",
        "outputId": "605734fc-4668-43cc-f172-b60f904eafef"
      },
      "execution_count": null,
      "outputs": [
        {
          "output_type": "execute_result",
          "data": {
            "text/plain": [
              "(array([1., 1., 0., 1., 3., 4., 5., 1., 2., 2.]),\n",
              " array([57.6 , 60.18, 62.76, 65.34, 67.92, 70.5 , 73.08, 75.66, 78.24,\n",
              "        80.82, 83.4 ]),\n",
              " <a list of 10 Patch objects>)"
            ]
          },
          "metadata": {},
          "execution_count": 58
        },
        {
          "output_type": "display_data",
          "data": {
            "image/png": "[encoded data removed]",
            "text/plain": [
              "<Figure size 432x288 with 1 Axes>"
            ]
          },
          "metadata": {
            "needs_background": "light"
          }
        }
      ]
    },
    {
      "cell_type": "code",
      "source": [
        "s= pd.Series(life_expectancy_values)\n",
        "# s.hist()\n",
        "s.plot()"
      ],
      "metadata": {
        "colab": {
          "base_uri": "https://localhost:8080/",
          "height": 282
        },
        "id": "PbfVdNW_gBk2",
        "outputId": "4a2f5cfe-05e4-492c-bbce-0dd42b40ba0a"
      },
      "execution_count": null,
      "outputs": [
        {
          "output_type": "execute_result",
          "data": {
            "text/plain": [
              "<matplotlib.axes._subplots.AxesSubplot at 0x7f73a4a5b550>"
            ]
          },
          "metadata": {},
          "execution_count": 60
        },
        {
          "output_type": "display_data",
          "data": {
            "image/png": "[encoded data removed]",
            "text/plain": [
              "<Figure size 432x288 with 1 Axes>"
            ]
          },
          "metadata": {
            "needs_background": "light"
          }
        }
      ]
    },
    {
      "cell_type": "code",
      "source": [
        "[2,3] == 2,3"
      ],
      "metadata": {
        "colab": {
          "base_uri": "https://localhost:8080/"
        },
        "id": "j7ZoSxshqzW8",
        "outputId": "f4bc2154-bfd9-4671-bd51-0b2fbccfbb83"
      },
      "execution_count": null,
      "outputs": [
        {
          "output_type": "execute_result",
          "data": {
            "text/plain": [
              "(False, 3)"
            ]
          },
          "metadata": {},
          "execution_count": 74
        }
      ]
    },
    {
      "cell_type": "code",
      "source": [
        "2,4"
      ],
      "metadata": {
        "colab": {
          "base_uri": "https://localhost:8080/"
        },
        "id": "aOXr16JGrRNL",
        "outputId": "535b36da-d6f0-41d0-b6ba-3695176875ad"
      },
      "execution_count": null,
      "outputs": [
        {
          "output_type": "execute_result",
          "data": {
            "text/plain": [
              "(2, 4)"
            ]
          },
          "metadata": {},
          "execution_count": 75
        }
      ]
    },
    {
      "cell_type": "code",
      "source": [
        "[3,4] == [3,4],3,56,'f',6+7"
      ],
      "metadata": {
        "colab": {
          "base_uri": "https://localhost:8080/"
        },
        "id": "Vi7-uuUasDnS",
        "outputId": "655cdb39-fe5e-46d9-df4b-c8e615ebd445"
      },
      "execution_count": null,
      "outputs": [
        {
          "output_type": "execute_result",
          "data": {
            "text/plain": [
              "(True, 3, 56, 'f', 13)"
            ]
          },
          "metadata": {},
          "execution_count": 100
        }
      ]
    },
    {
      "cell_type": "code",
      "source": [
        "r = 3,4"
      ],
      "metadata": {
        "id": "Ypz6nqQlsQMv"
      },
      "execution_count": null,
      "outputs": []
    },
    {
      "cell_type": "code",
      "source": [
        "r"
      ],
      "metadata": {
        "colab": {
          "base_uri": "https://localhost:8080/"
        },
        "id": "njEVBUdwsWNf",
        "outputId": "9548199e-9201-47d3-e850-067c401e460d"
      },
      "execution_count": null,
      "outputs": [
        {
          "output_type": "execute_result",
          "data": {
            "text/plain": [
              "(3, 4)"
            ]
          },
          "metadata": {},
          "execution_count": 82
        }
      ]
    },
    {
      "cell_type": "code",
      "source": [
        "type(o)"
      ],
      "metadata": {
        "colab": {
          "base_uri": "https://localhost:8080/"
        },
        "id": "mltAb1zZsWtH",
        "outputId": "67e95b7c-6628-438f-cce2-14bfa5689412"
      },
      "execution_count": null,
      "outputs": [
        {
          "output_type": "execute_result",
          "data": {
            "text/plain": [
              "tuple"
            ]
          },
          "metadata": {},
          "execution_count": 91
        }
      ]
    },
    {
      "cell_type": "code",
      "source": [
        "r == [3,4],5"
      ],
      "metadata": {
        "colab": {
          "base_uri": "https://localhost:8080/"
        },
        "id": "fQHnFVUWsrr_",
        "outputId": "5b3d5ab9-bd34-4511-943a-11f5b0e77421"
      },
      "execution_count": null,
      "outputs": [
        {
          "output_type": "execute_result",
          "data": {
            "text/plain": [
              "(False, 5)"
            ]
          },
          "metadata": {},
          "execution_count": 89
        }
      ]
    },
    {
      "cell_type": "code",
      "source": [
        "3,3 == 3,4"
      ],
      "metadata": {
        "colab": {
          "base_uri": "https://localhost:8080/"
        },
        "id": "UrFeQ8-Nt3U9",
        "outputId": "8fc1ed1e-a2b8-4d66-9b74-65ca39b59deb"
      },
      "execution_count": null,
      "outputs": [
        {
          "output_type": "execute_result",
          "data": {
            "text/plain": [
              "(3, True, 4)"
            ]
          },
          "metadata": {},
          "execution_count": 97
        }
      ]
    },
    {
      "cell_type": "code",
      "source": [
        "import numpy as np\n",
        "players = [180, 172, 178, 185, 190, 195, 192, 200, 210, 190]\n",
        "data = np.array(players)\n",
        "mean = data.mean()\n",
        "std = data.std()\n",
        "max_range = mean + std \n",
        "min_range = mean - std\n",
        "one_std = data[(data > min_range) & (data < max_range)]\n",
        "print(len(one_std))"
      ],
      "metadata": {
        "id": "obRRXDVuGyuH",
        "colab": {
          "base_uri": "https://localhost:8080/"
        },
        "outputId": "e87576ad-dfff-45b9-f919-bf901328f895"
      },
      "execution_count": null,
      "outputs": [
        {
          "output_type": "stream",
          "name": "stdout",
          "text": [
            "6\n"
          ]
        }
      ]
    },
    {
      "cell_type": "code",
      "source": [
        "import numpy as np\n",
        "\n",
        "# Subway ridership for 5 stations on 10 different days\n",
        "a = np.array([\n",
        "    [   0,    0,    2,    5,9],\n",
        "    [1478, 3877, 3674, 2328, 2539],\n",
        "    [1613, 4088, 3991, 6461, 2691],\n",
        "    [1560, 3392, 3826, 4787, 2613],\n",
        "    [1608, 4802, 3932, 4477, 2705],\n",
        "    [1576, 3933, 3909, 4979, 2685],\n",
        "    [  95,  229,  255,  496,  201],\n",
        "    [   2,    0,    1,   27,    0],\n",
        "    [1438, 3785, 3589, 4174, 2215],\n",
        "    [1342, 4043, 4009, 4665, 3033]\n",
        "])\n",
        "mean_per_day = a.mean(axis=1)\n",
        "max_and_min = a.max(axis=1)\n",
        "a.max(axis=1)\n",
        "a.min(axis=1)\n",
        "\n",
        "def my_fun(a):\n",
        "  return np.array([(a[i,:].max(),a[i,:].min())for i in range(len(a))])\n",
        "\n",
        "m = my_fun(a)\n",
        "\n",
        "m.ndim\n",
        "m.size\n",
        "\n",
        "   \n"
      ],
      "metadata": {
        "colab": {
          "base_uri": "https://localhost:8080/"
        },
        "id": "tnWC6iLNuqdM",
        "outputId": "c057b014-9bf4-4d93-a0aa-5887e6749e09"
      },
      "execution_count": null,
      "outputs": [
        {
          "output_type": "execute_result",
          "data": {
            "text/plain": [
              "20"
            ]
          },
          "metadata": {},
          "execution_count": 36
        }
      ]
    },
    {
      "cell_type": "code",
      "source": [
        "import pandas as pd\n",
        "names = 'lau','diana','yusra','france','zion','paulina','price','gatony','edward'\n",
        "age = 25,21,14,14,11,9,7,5,2\n",
        "s = pd.Series(age,index=names)\n",
        "# s[0]==s.iloc[0]==s.loc['lau']==s['lau']"
      ],
      "metadata": {
        "id": "zTlMYr5O2ODh"
      },
      "execution_count": null,
      "outputs": []
    },
    {
      "cell_type": "code",
      "source": [
        "s.std()"
      ],
      "metadata": {
        "colab": {
          "base_uri": "https://localhost:8080/"
        },
        "id": "HgFxRFRc4Ntd",
        "outputId": "3c3a6bf9-6cde-450f-d9d0-e64ebc8bfff6"
      },
      "execution_count": null,
      "outputs": [
        {
          "output_type": "execute_result",
          "data": {
            "text/plain": [
              "7.433034373659253"
            ]
          },
          "metadata": {},
          "execution_count": 52
        }
      ]
    },
    {
      "cell_type": "code",
      "source": [
        "s.plot()"
      ],
      "metadata": {
        "colab": {
          "base_uri": "https://localhost:8080/",
          "height": 282
        },
        "id": "rYb059HH50Hc",
        "outputId": "d3d85817-66e1-4404-f605-09f2e82d922e"
      },
      "execution_count": null,
      "outputs": [
        {
          "output_type": "execute_result",
          "data": {
            "text/plain": [
              "<matplotlib.axes._subplots.AxesSubplot at 0x7f6cac0d5850>"
            ]
          },
          "metadata": {},
          "execution_count": 54
        },
        {
          "output_type": "display_data",
          "data": {
            "image/png": "[encoded data removed]",
            "text/plain": [
              "<Figure size 432x288 with 1 Axes>"
            ]
          },
          "metadata": {
            "needs_background": "light"
          }
        }
      ]
    },
    {
      "cell_type": "code",
      "source": [
        "a = np.array([names,age])\n",
        "a[1,:]\n"
      ],
      "metadata": {
        "colab": {
          "base_uri": "https://localhost:8080/"
        },
        "id": "q1B2-Phn6OFR",
        "outputId": "9dbeded3-34db-4ebd-e6c8-9c9c43a33b17"
      },
      "execution_count": null,
      "outputs": [
        {
          "output_type": "execute_result",
          "data": {
            "text/plain": [
              "array(['25', '21', '14', '14', '11', '9', '7', '5', '2'], dtype='<U7')"
            ]
          },
          "metadata": {},
          "execution_count": 62
        }
      ]
    },
    {
      "cell_type": "code",
      "source": [
        "# Function to apply a function over multiple cores\n",
        "@print_timing\n",
        "def parallel_apply(apply_func, groups, nb_cores):\n",
        "    with Pool(nb_cores) as p:\n",
        "        results = p.map(apply_func, groups)\n",
        "    return pd.concat(results)\n",
        "\n",
        "# Parallel apply using 1 core\n",
        "parallel_apply(take_mean_age, athlete_events.groupby('Year'), 1)\n",
        "\n",
        "# Parallel apply using 2 cores\n",
        "parallel_apply(take_mean_age, athlete_events.groupby('Year'), 2)\n",
        "\n",
        "# Parallel apply using 4 cores\n",
        "parallel_apply(take_mean_age, athlete_events.groupby('Year'), 4)"
      ],
      "metadata": {
        "id": "iFM8gVHs6vJc"
      },
      "execution_count": null,
      "outputs": []
    },
    {
      "cell_type": "code",
      "source": [
        "import dask.dataframe as dd\n",
        "\n",
        "# Set the number of partitions\n",
        "athlete_events_dask = dd.from_pandas(athlete_events, npartitions=4)\n",
        "\n",
        "# Calculate the mean Age per Year\n",
        "print(athlete_events_dask.groupby('Year').Age.mean().compute())"
      ],
      "metadata": {
        "id": "QLylNBNb9X0Y"
      },
      "execution_count": null,
      "outputs": []
    },
    {
      "cell_type": "code",
      "source": [
        "class Customer:\n",
        "  def set_name(self,name):\n",
        "    self.name = name\n",
        "  def identify(self):\n",
        "    return f\"I am {self.name}\""
      ],
      "metadata": {
        "id": "GYsbXL1DRPPA"
      },
      "execution_count": null,
      "outputs": []
    },
    {
      "cell_type": "code",
      "source": [
        "lola = Customer()\n",
        "lola.set_name('laurent')\n",
        "lola.identify()"
      ],
      "metadata": {
        "colab": {
          "base_uri": "https://localhost:8080/",
          "height": 35
        },
        "id": "Tq_D4uiIRnPp",
        "outputId": "b79c6bbe-1d2a-4372-ea87-e41996c65778"
      },
      "execution_count": null,
      "outputs": [
        {
          "output_type": "execute_result",
          "data": {
            "application/vnd.google.colaboratory.intrinsic+json": {
              "type": "string"
            },
            "text/plain": [
              "'I am laurent'"
            ]
          },
          "metadata": {},
          "execution_count": 9
        }
      ]
    }
  ]
}