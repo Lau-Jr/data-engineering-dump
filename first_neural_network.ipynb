{
  "nbformat": 4,
  "nbformat_minor": 0,
  "metadata": {
    "colab": {
      "name": "first_neural_network.ipynb",
      "provenance": [],
      "authorship_tag": "ABX9TyNJOp9BMv0T1v2+ipmP+fnI",
      "include_colab_link": true
    },
    "kernelspec": {
      "name": "python3",
      "display_name": "Python 3"
    },
    "language_info": {
      "name": "python"
    }
  },
  "cells": [
    {
      "cell_type": "markdown",
      "metadata": {
        "id": "view-in-github",
        "colab_type": "text"
      },
      "source": [
        "<a href=\"https://colab.research.google.com/github/Lau-Jr/linear-regression/blob/main/first_neural_network.ipynb\" target=\"_parent\"><img src=\"https://colab.research.google.com/assets/colab-badge.svg\" alt=\"Open In Colab\"/></a>"
      ]
    },
    {
      "cell_type": "code",
      "metadata": {
        "id": "ZF4OAzw14WzX"
      },
      "source": [
        "import numpy as np\n",
        "import pandas as pd\n",
        "import matplotlib.pyplot as plt"
      ],
      "execution_count": 1,
      "outputs": []
    },
    {
      "cell_type": "code",
      "metadata": {
        "id": "oXFlVt_Q4s2C"
      },
      "source": [
        "def nn(x1,x2,w1,w2,b):\n",
        "  return sigmoid( w1*x1 + w2*x2 + b)\n",
        "def sigmoid(score):\n",
        "  return 1/(1 + np.exp(-score))"
      ],
      "execution_count": 2,
      "outputs": []
    },
    {
      "cell_type": "code",
      "metadata": {
        "id": "vSauAYkK7ITf"
      },
      "source": [
        "# we normally start with random values of weights\n",
        "w1 = np.random.randn()\n",
        "w2 = np.random.randn()\n",
        "b = np.random.randn()"
      ],
      "execution_count": 3,
      "outputs": []
    },
    {
      "cell_type": "code",
      "metadata": {
        "id": "Bc8TZrL9Lmi4"
      },
      "source": [
        "# trying to predict 4\n",
        "# cost_function=(x-4) ** 2\n",
        "# slope = 2(x-4)\n",
        "\n",
        "# slope of cost function at x\n",
        "def slope(x):\n",
        "  return 2 * (x-4)"
      ],
      "execution_count": 4,
      "outputs": []
    },
    {
      "cell_type": "code",
      "metadata": {
        "id": "Sw0M5ldoLz8R"
      },
      "source": [
        "# testing 100 times \n",
        "# x = 1\n",
        "x=10\n",
        "alpha =0.1\n",
        "for i in range(99):\n",
        "  x = x - alpha * slope(x)"
      ],
      "execution_count": 5,
      "outputs": []
    },
    {
      "cell_type": "code",
      "metadata": {
        "colab": {
          "base_uri": "https://localhost:8080/"
        },
        "id": "obj3RXfWMmha",
        "outputId": "ab31489e-38ec-463b-bbb5-43cb251f81f8"
      },
      "source": [
        "x"
      ],
      "execution_count": 6,
      "outputs": [
        {
          "output_type": "execute_result",
          "data": {
            "text/plain": [
              "4.000000001527777"
            ]
          },
          "metadata": {
            "tags": []
          },
          "execution_count": 6
        }
      ]
    },
    {
      "cell_type": "code",
      "metadata": {
        "id": "MefaWmjYMxAM"
      },
      "source": [
        "# genarally it doesn't matter where we start with value of x"
      ],
      "execution_count": 7,
      "outputs": []
    }
  ]
}