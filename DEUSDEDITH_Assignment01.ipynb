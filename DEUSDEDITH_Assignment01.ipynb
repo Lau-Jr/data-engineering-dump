{
  "nbformat": 4,
  "nbformat_minor": 0,
  "metadata": {
    "kernelspec": {
      "display_name": "Python 3",
      "language": "python",
      "name": "python3"
    },
    "language_info": {
      "codemirror_mode": {
        "name": "ipython",
        "version": 3
      },
      "file_extension": ".py",
      "mimetype": "text/x-python",
      "name": "python",
      "nbconvert_exporter": "python",
      "pygments_lexer": "ipython3",
      "version": "3.9.0"
    },
    "colab": {
      "name": "DEUSDEDITH_Laurent_Assignment01.ipynb",
      "provenance": [],
      "collapsed_sections": [],
      "include_colab_link": true
    }
  },
  "cells": [
    {
      "cell_type": "markdown",
      "metadata": {
        "id": "view-in-github",
        "colab_type": "text"
      },
      "source": [
        "<a href=\"https://colab.research.google.com/github/Lau-Jr/linear-regression/blob/main/DEUSDEDITH_Assignment01.ipynb\" target=\"_parent\"><img src=\"https://colab.research.google.com/assets/colab-badge.svg\" alt=\"Open In Colab\"/></a>"
      ]
    },
    {
      "cell_type": "markdown",
      "metadata": {
        "id": "NBIBL9sSKaFS"
      },
      "source": [
        "## Assignment 01 Variables and Data Types\n",
        "#### Student Name: Deusdedith Laurent Reg. No. 2021-06-01148"
      ]
    },
    {
      "cell_type": "markdown",
      "metadata": {
        "id": "_WHBkwTx50wR"
      },
      "source": [
        ""
      ]
    },
    {
      "cell_type": "markdown",
      "metadata": {
        "id": "GjlFUwgTKaFa"
      },
      "source": [
        "### Question 01"
      ]
    },
    {
      "cell_type": "markdown",
      "metadata": {
        "id": "fi44h1fpKaFb"
      },
      "source": [
        "#### Qtn1(a)"
      ]
    },
    {
      "cell_type": "code",
      "metadata": {
        "id": "zavrTkMMKaFc",
        "colab": {
          "base_uri": "https://localhost:8080/"
        },
        "outputId": "370c6572-63aa-4d85-cfef-ae879151261f"
      },
      "source": [
        "#solution for Qtn1(a)\n",
        "sentence = f\"He said, \\\"John\\'s program is easy to read\\\"\"\n",
        "print(sentence)"
      ],
      "execution_count": null,
      "outputs": [
        {
          "output_type": "stream",
          "name": "stdout",
          "text": [
            "He said, \"John's program is easy to read\"\n"
          ]
        }
      ]
    },
    {
      "cell_type": "markdown",
      "metadata": {
        "id": "6hsFRxh7KaFe"
      },
      "source": [
        "#### Qtn1(b)"
      ]
    },
    {
      "cell_type": "code",
      "metadata": {
        "id": "qzkjW6YLKaFf"
      },
      "source": [
        "#solution for Qtn1(b)\n",
        "import math\n",
        "\n",
        "\n",
        "pie = math.pi \n",
        "length_r = float(input(\"Enter the length from the center to a vertex (r): \"))\n",
        "length_s = 2 * length_r * math.sin(pie / 5)\n",
        "\n",
        "\n",
        "print(f\"Length of each side (s) is: {format(length_s,'.2f')} cm\")\n",
        "\n",
        "\n",
        "area = 3/2 * math.sqrt(3) * length_s ** 2\n",
        "print(f\"The area of the pentagon is: {format(area,'.2f')} cm^2\")\n",
        "\n",
        "\n",
        "sum_of_angles = 5 * 3/5 * math.degrees(pie)\n",
        "print(f\"Sum of angles is {format(sum_of_angles,'.1f')} degrees\")"
      ],
      "execution_count": null,
      "outputs": []
    },
    {
      "cell_type": "markdown",
      "metadata": {
        "id": "4sjoa0XeKaFg"
      },
      "source": [
        "#### Qtn1(c)"
      ]
    },
    {
      "cell_type": "code",
      "metadata": {
        "id": "nggtMM59KaFi"
      },
      "source": [
        "#solution for Qtn1(c)\n",
        "number = input(\"Enter an integer: \")\n",
        "reversed_number = number[::-1]\n",
        "reversed_number = reversed_number\n",
        "print(f\"The reversed number is: {reversed_number} \")"
      ],
      "execution_count": null,
      "outputs": []
    },
    {
      "cell_type": "markdown",
      "metadata": {
        "id": "vFzt6XydKaFj"
      },
      "source": [
        "### Question 02"
      ]
    },
    {
      "cell_type": "code",
      "metadata": {
        "id": "h1GRHvYwKaFl"
      },
      "source": [
        "#Qtn2(a)\n",
        "#the technique used here is taking the particular and fill the space by @ symbol\n",
        "\n",
        "str='mwakanemeLE Jacqueline mmbaga 2021-06-56789 f'\n",
        "str_old = str\n",
        "print(str_old)\n",
        "\n",
        "\n",
        "fni = str.find(\" \")\n",
        "fname = str[:fni].capitalize()\n",
        "\n",
        "\n",
        "str = str.replace(\" \",\"@\",1)\n",
        "mni = str.find(\" \")\n",
        "mname = str[fni + 1 : mni].capitalize()\n",
        "\n",
        "\n",
        "str = str.replace(\" \",\"@\",1)\n",
        "sni = str.find(\" \")\n",
        "lname = str[mni + 1 : sni].capitalize()\n",
        "\n",
        "\n",
        "str = str.replace(\" \",\"@\",1)\n",
        "rgni = str.find(\" \")\n",
        "regno = str[sni + 1 : rgni]\n",
        "\n",
        "\n",
        "str = str.replace(\" \",\"@\",1)\n",
        "gi = str.find(\" \")\n",
        "gender = str[rgni + 1 : ].upper()\n",
        "\n",
        "#Qtn2(b)\n",
        "print()\n",
        "print('Solution for Qtn2(b)')\n",
        "print(f\"Firstname: {fname}\")\n",
        "print(f\"Middlename: {mname}\")\n",
        "print(f\"Surname: {lname}\")\n",
        "print(f\"Sex: {gender}\")\n",
        "\n",
        "\n",
        "#Qtn2(c)\n",
        "print()\n",
        "print(f'Fullname is {lname.upper()}, {fname.upper()[0]}.{mname.upper()[0]}.')\n",
        "\n",
        "\n",
        "#Qtn2(d)\n",
        "print()\n",
        "print(f\"Is Student Male?: {gender == 'M'}\")\n",
        "print(f\"Is Student Female?: {gender == 'F'}\")"
      ],
      "execution_count": null,
      "outputs": []
    },
    {
      "cell_type": "markdown",
      "metadata": {
        "id": "Zi0rT-YtKaFm"
      },
      "source": [
        "### Question 03"
      ]
    },
    {
      "cell_type": "markdown",
      "metadata": {
        "id": "SKtn76RPKaFn"
      },
      "source": [
        "#### Qtn3(a)"
      ]
    },
    {
      "cell_type": "code",
      "metadata": {
        "id": "3jz8tveQKaFo"
      },
      "source": [
        "import math\n",
        "\n",
        "\n",
        "pie = math.pi\n",
        "R = 25\n",
        "C = 19 * 10 ** -4\n",
        "L = 4 * 10 ** -4\n",
        "E = 20\n",
        "W = 5.5\n",
        "\n",
        "\n",
        "G = E / math.sqrt( R ** 2 -( (2 * pie * W * L) - 1 / (2 * pie * W * C) ) ** 2 )\n",
        "print(f\"value of G is: {format(G,'.3f')}\")"
      ],
      "execution_count": null,
      "outputs": []
    },
    {
      "cell_type": "markdown",
      "metadata": {
        "id": "yAU5ISTSKaFp"
      },
      "source": [
        "#### Qtn3(b)"
      ]
    },
    {
      "cell_type": "code",
      "metadata": {
        "id": "Ace2wDzGKaFq",
        "collapsed": true
      },
      "source": [
        "import math\n",
        "\n",
        "\n",
        "a = 5.6\n",
        "b = 6.5\n",
        "x = 12.78\n",
        "y = 12.2\n",
        "\n",
        "\n",
        "m = math.sqrt( ( a + 3 * math.pow(b, 1 /3 ) ) / ( x + math.sqrt( 3 + y ) ) )\n",
        "print(f\"value of m is: {format(m,'.5f')}\")"
      ],
      "execution_count": null,
      "outputs": []
    }
  ]
}